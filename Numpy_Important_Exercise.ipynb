{
  "cells": [
    {
      "cell_type": "markdown",
      "metadata": {
        "id": "DzhAonfGQv2l"
      },
      "source": [
        "# Numpy\n",
        "\n"
      ]
    },
    {
      "cell_type": "markdown",
      "metadata": {
        "id": "hcFtoPseQv20"
      },
      "source": [
        "#### 1. Import the numpy package under the name `np` (★☆☆) \n",
        "(**hint**: import … as …)"
      ]
    },
    {
      "cell_type": "code",
      "execution_count": 3,
      "metadata": {
        "collapsed": true,
        "id": "MrM8TmgMQv24"
      },
      "outputs": [],
      "source": [
        "import numpy as np"
      ]
    },
    {
      "cell_type": "markdown",
      "metadata": {
        "id": "x6O8myQNQv27"
      },
      "source": [
        "#### 2. Print the numpy version and the configuration (★☆☆) \n",
        "(**hint**: np.\\_\\_version\\_\\_, np.show\\_config)"
      ]
    },
    {
      "cell_type": "code",
      "execution_count": null,
      "metadata": {
        "id": "mwVshjZPQv29",
        "colab": {
          "base_uri": "https://localhost:8080/"
        },
        "outputId": "89c8d63c-7c5b-42a7-c209-12b3c95bab1f"
      },
      "outputs": [
        {
          "output_type": "stream",
          "name": "stdout",
          "text": [
            "1.21.6\n",
            "blas_mkl_info:\n",
            "  NOT AVAILABLE\n",
            "blis_info:\n",
            "  NOT AVAILABLE\n",
            "openblas_info:\n",
            "    libraries = ['openblas', 'openblas']\n",
            "    library_dirs = ['/usr/local/lib']\n",
            "    language = c\n",
            "    define_macros = [('HAVE_CBLAS', None)]\n",
            "    runtime_library_dirs = ['/usr/local/lib']\n",
            "blas_opt_info:\n",
            "    libraries = ['openblas', 'openblas']\n",
            "    library_dirs = ['/usr/local/lib']\n",
            "    language = c\n",
            "    define_macros = [('HAVE_CBLAS', None)]\n",
            "    runtime_library_dirs = ['/usr/local/lib']\n",
            "lapack_mkl_info:\n",
            "  NOT AVAILABLE\n",
            "openblas_lapack_info:\n",
            "    libraries = ['openblas', 'openblas']\n",
            "    library_dirs = ['/usr/local/lib']\n",
            "    language = c\n",
            "    define_macros = [('HAVE_CBLAS', None)]\n",
            "    runtime_library_dirs = ['/usr/local/lib']\n",
            "lapack_opt_info:\n",
            "    libraries = ['openblas', 'openblas']\n",
            "    library_dirs = ['/usr/local/lib']\n",
            "    language = c\n",
            "    define_macros = [('HAVE_CBLAS', None)]\n",
            "    runtime_library_dirs = ['/usr/local/lib']\n",
            "Supported SIMD extensions in this NumPy install:\n",
            "    baseline = SSE,SSE2,SSE3\n",
            "    found = SSSE3,SSE41,POPCNT,SSE42,AVX,F16C,FMA3,AVX2\n",
            "    not found = AVX512F,AVX512CD,AVX512_KNL,AVX512_KNM,AVX512_SKX,AVX512_CLX,AVX512_CNL,AVX512_ICL\n",
            "None\n"
          ]
        }
      ],
      "source": [
        "print(np.__version__)\n",
        "print(np.show_config())"
      ]
    },
    {
      "cell_type": "markdown",
      "metadata": {
        "id": "i-JjoTh9Qv2-"
      },
      "source": [
        "#### 3. Create a null vector of size 10 (★☆☆) \n",
        "(**hint**: np.zeros)"
      ]
    },
    {
      "cell_type": "code",
      "execution_count": null,
      "metadata": {
        "id": "QT2FcqTXQv2_",
        "colab": {
          "base_uri": "https://localhost:8080/"
        },
        "outputId": "a006a65e-46ca-4d26-c8b1-2624b243926e"
      },
      "outputs": [
        {
          "output_type": "stream",
          "name": "stdout",
          "text": [
            "[0. 0. 0. 0. 0. 0. 0. 0. 0. 0.]\n"
          ]
        }
      ],
      "source": [
        "x = np.zeros(10)\n",
        "print(x)"
      ]
    },
    {
      "cell_type": "markdown",
      "metadata": {
        "id": "TMzlN9dlQv3B"
      },
      "source": [
        "#### 4.  How to find the memory size of any array (★☆☆) \n",
        "(**hint**: size, itemsize)"
      ]
    },
    {
      "cell_type": "code",
      "execution_count": null,
      "metadata": {
        "id": "iHFE2Q3VQv3D",
        "colab": {
          "base_uri": "https://localhost:8080/"
        },
        "outputId": "14c039e9-055b-464e-f9c6-96f6417c4937"
      },
      "outputs": [
        {
          "output_type": "stream",
          "name": "stdout",
          "text": [
            "Size of the array:  3\n",
            "Memory size of one array element in bytes:  8\n"
          ]
        }
      ],
      "source": [
        "x = np.array([100,20,34])\n",
        "  \n",
        "print(\"Size of the array: \",\n",
        "      x.size)\n",
        "  \n",
        "print(\"Memory size of one array element in bytes: \",\n",
        "      x.itemsize)"
      ]
    },
    {
      "cell_type": "markdown",
      "metadata": {
        "id": "_crzZ8hBQv3F"
      },
      "source": [
        "#### 5.  How to get the documentation of the numpy add function from the command line? (★☆☆) \n",
        "(**hint**: np.info)"
      ]
    },
    {
      "cell_type": "code",
      "execution_count": null,
      "metadata": {
        "collapsed": true,
        "id": "qMVj_GuNQv3G",
        "colab": {
          "base_uri": "https://localhost:8080/"
        },
        "outputId": "58da28ec-fa7a-49d1-b654-6d5f45ae95e7"
      },
      "outputs": [
        {
          "output_type": "stream",
          "name": "stdout",
          "text": [
            "add(x1, x2, /, out=None, *, where=True, casting='same_kind', order='K', dtype=None, subok=True[, signature, extobj])\n",
            "\n",
            "Add arguments element-wise.\n",
            "\n",
            "Parameters\n",
            "----------\n",
            "x1, x2 : array_like\n",
            "    The arrays to be added.\n",
            "    If ``x1.shape != x2.shape``, they must be broadcastable to a common\n",
            "    shape (which becomes the shape of the output).\n",
            "out : ndarray, None, or tuple of ndarray and None, optional\n",
            "    A location into which the result is stored. If provided, it must have\n",
            "    a shape that the inputs broadcast to. If not provided or None,\n",
            "    a freshly-allocated array is returned. A tuple (possible only as a\n",
            "    keyword argument) must have length equal to the number of outputs.\n",
            "where : array_like, optional\n",
            "    This condition is broadcast over the input. At locations where the\n",
            "    condition is True, the `out` array will be set to the ufunc result.\n",
            "    Elsewhere, the `out` array will retain its original value.\n",
            "    Note that if an uninitialized `out` array is created via the default\n",
            "    ``out=None``, locations within it where the condition is False will\n",
            "    remain uninitialized.\n",
            "**kwargs\n",
            "    For other keyword-only arguments, see the\n",
            "    :ref:`ufunc docs <ufuncs.kwargs>`.\n",
            "\n",
            "Returns\n",
            "-------\n",
            "add : ndarray or scalar\n",
            "    The sum of `x1` and `x2`, element-wise.\n",
            "    This is a scalar if both `x1` and `x2` are scalars.\n",
            "\n",
            "Notes\n",
            "-----\n",
            "Equivalent to `x1` + `x2` in terms of array broadcasting.\n",
            "\n",
            "Examples\n",
            "--------\n",
            ">>> np.add(1.0, 4.0)\n",
            "5.0\n",
            ">>> x1 = np.arange(9.0).reshape((3, 3))\n",
            ">>> x2 = np.arange(3.0)\n",
            ">>> np.add(x1, x2)\n",
            "array([[  0.,   2.,   4.],\n",
            "       [  3.,   5.,   7.],\n",
            "       [  6.,   8.,  10.]])\n",
            "\n",
            "The ``+`` operator can be used as a shorthand for ``np.add`` on ndarrays.\n",
            "\n",
            ">>> x1 = np.arange(9.0).reshape((3, 3))\n",
            ">>> x2 = np.arange(3.0)\n",
            ">>> x1 + x2\n",
            "array([[ 0.,  2.,  4.],\n",
            "       [ 3.,  5.,  7.],\n",
            "       [ 6.,  8., 10.]])\n",
            "None\n"
          ]
        }
      ],
      "source": [
        "print(np.info(np.add))"
      ]
    },
    {
      "cell_type": "markdown",
      "metadata": {
        "id": "aAjfnqHNQv3H"
      },
      "source": [
        "#### 6.  Create a null vector of size 10 but the fifth value which is 1 (★☆☆) \n",
        "(**hint**: array\\[4\\])"
      ]
    },
    {
      "cell_type": "code",
      "execution_count": null,
      "metadata": {
        "id": "ookbiHydQv3I"
      },
      "outputs": [],
      "source": [
        "x=np.zeros(10)\n",
        "x[4]=1"
      ]
    },
    {
      "cell_type": "markdown",
      "metadata": {
        "id": "DJRtlvSvQv3J"
      },
      "source": [
        "#### 7.  Create a vector with values ranging from 10 to 49 (★☆☆) \n",
        "(**hint**: np.arange)"
      ]
    },
    {
      "cell_type": "code",
      "execution_count": null,
      "metadata": {
        "id": "gz-7ahOYQv3L",
        "colab": {
          "base_uri": "https://localhost:8080/"
        },
        "outputId": "8ddf35f9-f285-4565-a85a-385223a4e8e5"
      },
      "outputs": [
        {
          "output_type": "stream",
          "name": "stdout",
          "text": [
            "[10 11 12 13 14 15 16 17 18 19 20 21 22 23 24 25 26 27 28 29 30 31 32 33\n",
            " 34 35 36 37 38 39 40 41 42 43 44 45 46 47 48 49]\n"
          ]
        }
      ],
      "source": [
        "v = np.arange(10,50)\n",
        "print(v)"
      ]
    },
    {
      "cell_type": "markdown",
      "metadata": {
        "id": "quX_tCIZQv3M"
      },
      "source": [
        "#### 8.  Reverse a vector (first element becomes last) (★☆☆) \n",
        "(**hint**: array\\[::-1\\])"
      ]
    },
    {
      "cell_type": "code",
      "execution_count": null,
      "metadata": {
        "id": "qinzZKciQv3N",
        "colab": {
          "base_uri": "https://localhost:8080/"
        },
        "outputId": "d3cc5572-d216-429e-a0a0-6219b152b767"
      },
      "outputs": [
        {
          "output_type": "execute_result",
          "data": {
            "text/plain": [
              "array([49, 48, 47, 46, 45, 44, 43, 42, 41, 40, 39, 38, 37, 36, 35, 34, 33,\n",
              "       32, 31, 30, 29, 28, 27, 26, 25, 24, 23, 22, 21, 20, 19, 18, 17, 16,\n",
              "       15, 14, 13, 12, 11, 10])"
            ]
          },
          "metadata": {},
          "execution_count": 10
        }
      ],
      "source": [
        "v[::-1]"
      ]
    },
    {
      "cell_type": "markdown",
      "metadata": {
        "id": "ynwEtZ7cQv3O"
      },
      "source": [
        "#### 9.  Create a 3x3 matrix with values ranging from 0 to 8 (★☆☆) \n",
        "(**hint**: reshape)"
      ]
    },
    {
      "cell_type": "code",
      "execution_count": null,
      "metadata": {
        "id": "moTJBeE7Qv3O",
        "colab": {
          "base_uri": "https://localhost:8080/"
        },
        "outputId": "dfe930d5-d55a-4f5c-aea0-55b2d17a409f"
      },
      "outputs": [
        {
          "output_type": "stream",
          "name": "stdout",
          "text": [
            "[[0 1 2]\n",
            " [3 4 5]\n",
            " [6 7 8]]\n"
          ]
        }
      ],
      "source": [
        "x =  np.arange(0, 9).reshape(3,3)\n",
        "print(x)"
      ]
    },
    {
      "cell_type": "markdown",
      "metadata": {
        "id": "eE4Z1GIiQv3Q"
      },
      "source": [
        "#### 10. Find indices of non-zero elements from \\[1,2,0,0,4,0\\] (★☆☆) \n",
        "(**hint**: np.nonzero)"
      ]
    },
    {
      "cell_type": "code",
      "execution_count": null,
      "metadata": {
        "id": "qGejZKPvQv3R",
        "colab": {
          "base_uri": "https://localhost:8080/"
        },
        "outputId": "ccd29999-4dc3-4f91-9cc3-b54855cad193"
      },
      "outputs": [
        {
          "output_type": "stream",
          "name": "stdout",
          "text": [
            "(array([0, 1, 4]),)\n"
          ]
        }
      ],
      "source": [
        "x=[1,2,0,0,4,0]\n",
        "out = np.nonzero(x)\n",
        "print(out)"
      ]
    },
    {
      "cell_type": "markdown",
      "metadata": {
        "id": "grcgDu7IQv3R"
      },
      "source": [
        "#### 11. Create a 3x3 identity matrix (★☆☆) \n",
        "(**hint**: np.eye)"
      ]
    },
    {
      "cell_type": "code",
      "execution_count": null,
      "metadata": {
        "id": "3HKxnbUmQv3S",
        "colab": {
          "base_uri": "https://localhost:8080/"
        },
        "outputId": "c000d487-f508-4416-a72a-99b53314a8c3"
      },
      "outputs": [
        {
          "output_type": "stream",
          "name": "stdout",
          "text": [
            "[[1. 0. 0.]\n",
            " [0. 1. 0.]\n",
            " [0. 0. 1.]]\n"
          ]
        }
      ],
      "source": [
        "import numpy as np\n",
        "x = np.eye(3)\n",
        "print(x)"
      ]
    },
    {
      "cell_type": "markdown",
      "metadata": {
        "id": "u6Bmub1ZQv3T"
      },
      "source": [
        "#### 12. Create a 3x3x3 array with random values (★☆☆) \n",
        "(**hint**: np.random.random)"
      ]
    },
    {
      "cell_type": "code",
      "execution_count": null,
      "metadata": {
        "collapsed": true,
        "id": "a-wSHR0UQv3T",
        "colab": {
          "base_uri": "https://localhost:8080/"
        },
        "outputId": "b7d233eb-4c0f-4db2-a361-c073b9342221"
      },
      "outputs": [
        {
          "output_type": "stream",
          "name": "stdout",
          "text": [
            "[[[0.36692159 0.63648379 0.82575494]\n",
            "  [0.14969328 0.2300662  0.90415763]\n",
            "  [0.36820828 0.89020567 0.03687536]]\n",
            "\n",
            " [[0.96814922 0.66893972 0.42182854]\n",
            "  [0.88316151 0.63577688 0.28025439]\n",
            "  [0.98781383 0.68282874 0.44708395]]\n",
            "\n",
            " [[0.09116737 0.37238428 0.58299961]\n",
            "  [0.74174158 0.86807206 0.19648573]\n",
            "  [0.61806351 0.64301678 0.3078753 ]]]\n"
          ]
        }
      ],
      "source": [
        "x = np.random.random((3,3,3))\n",
        "print(x)"
      ]
    },
    {
      "cell_type": "markdown",
      "metadata": {
        "id": "sQg67KWMQv3U"
      },
      "source": [
        "#### 13. Create a 10x10 array with random values and find the minimum and maximum values (★☆☆) \n",
        "(**hint**: min, max)"
      ]
    },
    {
      "cell_type": "code",
      "execution_count": null,
      "metadata": {
        "id": "Q2MSqyrdQv3V",
        "colab": {
          "base_uri": "https://localhost:8080/"
        },
        "outputId": "92e424f3-fdff-4cc2-bcbf-d7ee2e3120ce"
      },
      "outputs": [
        {
          "output_type": "stream",
          "name": "stdout",
          "text": [
            "[[0.02453856 0.61069679 0.9498817  0.00301592 0.24265772 0.75703128\n",
            "  0.74318819 0.4851035  0.42883161 0.3067764 ]\n",
            " [0.71715836 0.32183561 0.79691621 0.68752582 0.79340661 0.42548008\n",
            "  0.37467364 0.90510145 0.20048213 0.19108211]\n",
            " [0.50010005 0.55631243 0.68774817 0.43819188 0.17682969 0.88391151\n",
            "  0.86166912 0.63158523 0.47512879 0.84838596]\n",
            " [0.62104459 0.21685537 0.59782674 0.20512599 0.52030564 0.03724689\n",
            "  0.6565263  0.04803713 0.61657937 0.63393895]\n",
            " [0.29438286 0.13259964 0.8609118  0.60958454 0.11012753 0.08957406\n",
            "  0.66036203 0.46347844 0.87430222 0.74763028]\n",
            " [0.37275448 0.28076635 0.29914482 0.06325261 0.94131173 0.52758527\n",
            "  0.4972374  0.22636841 0.53847447 0.38048727]\n",
            " [0.30539655 0.0388166  0.05200002 0.29979624 0.21320172 0.7468023\n",
            "  0.14049112 0.34308607 0.12023331 0.93018568]\n",
            " [0.87755961 0.0616841  0.10857271 0.29558221 0.77431952 0.60452551\n",
            "  0.76328814 0.19074003 0.9634581  0.49410987]\n",
            " [0.41272917 0.0334776  0.2530956  0.21127013 0.46115487 0.06156055\n",
            "  0.62419328 0.39057192 0.99560517 0.83249458]\n",
            " [0.50592002 0.79286399 0.61571802 0.99913792 0.25879115 0.16357203\n",
            "  0.40480201 0.436422   0.53594993 0.18243814]]\n",
            "max,min 0.003015918157403763 0.9991379247295431\n"
          ]
        }
      ],
      "source": [
        "x = np.random.random((10,10))\n",
        "print(x)\n",
        "print(\"max,min\", x.min(),x.max())"
      ]
    },
    {
      "cell_type": "markdown",
      "metadata": {
        "id": "s7zSkwGOQv3V"
      },
      "source": [
        "#### 14. Create a random vector of size 30 and find the mean value (★☆☆) \n",
        "(**hint**: mean)"
      ]
    },
    {
      "cell_type": "code",
      "execution_count": null,
      "metadata": {
        "id": "XanBi4t6Qv3W",
        "colab": {
          "base_uri": "https://localhost:8080/"
        },
        "outputId": "f994047f-9414-4e92-ef9e-0106fde3b7ee"
      },
      "outputs": [
        {
          "output_type": "stream",
          "name": "stdout",
          "text": [
            "[0.01110996 0.18861722 0.31133726 0.65905984 0.62173042 0.74626015\n",
            " 0.1757875  0.54394174 0.61978999 0.68463494]\n",
            "mean: 0.4562269022448674\n"
          ]
        }
      ],
      "source": [
        "x=np.random.random(10)\n",
        "print(x)\n",
        "print(\"mean:\", x.mean())"
      ]
    },
    {
      "cell_type": "markdown",
      "metadata": {
        "id": "yKgSVVvoQv3X"
      },
      "source": [
        "#### 15. Create a 2d array with 1 on the border and 0 inside (★☆☆) \n",
        "(**hint**: array\\[1:-1, 1:-1\\])"
      ]
    },
    {
      "cell_type": "code",
      "execution_count": null,
      "metadata": {
        "id": "3gRyxNy5Qv3X",
        "colab": {
          "base_uri": "https://localhost:8080/"
        },
        "outputId": "14389da0-5906-4895-d98b-334e8829a0a5"
      },
      "outputs": [
        {
          "output_type": "stream",
          "name": "stdout",
          "text": [
            "[[1. 1. 1. 1. 1.]\n",
            " [1. 0. 0. 0. 1.]\n",
            " [1. 0. 0. 0. 1.]\n",
            " [1. 0. 0. 0. 1.]\n",
            " [1. 1. 1. 1. 1.]]\n"
          ]
        }
      ],
      "source": [
        "x=np.ones([5,5])\n",
        "x[1:-1, 1:-1]=0\n",
        "print(x)"
      ]
    },
    {
      "cell_type": "markdown",
      "metadata": {
        "id": "iwxlMSqiQv3Y"
      },
      "source": [
        "#### 16. How to add a border (filled with 0's) around an existing array? (★☆☆) \n",
        "(**hint**: np.pad)"
      ]
    },
    {
      "cell_type": "code",
      "execution_count": null,
      "metadata": {
        "id": "smjseqSVQv3Z",
        "colab": {
          "base_uri": "https://localhost:8080/"
        },
        "outputId": "8b794bab-b9f5-4b8d-92a5-bea55c115b48"
      },
      "outputs": [
        {
          "output_type": "stream",
          "name": "stdout",
          "text": [
            "[[0. 0. 0. 0. 0.]\n",
            " [0. 1. 1. 1. 0.]\n",
            " [0. 1. 1. 1. 0.]\n",
            " [0. 1. 1. 1. 0.]\n",
            " [0. 0. 0. 0. 0.]]\n"
          ]
        }
      ],
      "source": [
        "x = np.ones((3,3))\n",
        "x = np.pad(x, pad_width=1, mode='constant', constant_values=0)\n",
        "print(x)"
      ]
    },
    {
      "cell_type": "markdown",
      "metadata": {
        "id": "Iunzg3DNQv3Z"
      },
      "source": [
        "#### 17. What is the result of the following expression? (★☆☆) \n",
        "(**hint**: NaN = not a number, inf = infinity)"
      ]
    },
    {
      "cell_type": "markdown",
      "metadata": {
        "id": "GVFx9iqjQv3a"
      },
      "source": [
        "```python\n",
        "0 * np.nan\n",
        "np.nan == np.nan\n",
        "np.inf > np.nan\n",
        "np.nan - np.nan\n",
        "0.3 == 3 * 0.1\n",
        "```"
      ]
    },
    {
      "cell_type": "code",
      "execution_count": null,
      "metadata": {
        "id": "jqTgNvj7Qv3b",
        "colab": {
          "base_uri": "https://localhost:8080/"
        },
        "outputId": "94cb5803-3a58-41d4-8e4e-af1d3f105445"
      },
      "outputs": [
        {
          "output_type": "stream",
          "name": "stdout",
          "text": [
            "nan\n",
            "False\n",
            "False\n",
            "nan\n",
            "False\n"
          ]
        }
      ],
      "source": [
        "print(0 * np.nan)\n",
        "print(np.nan == np.nan)\n",
        "print(np.inf > np.nan)\n",
        "print(np.nan - np.nan)\n",
        "print(0.3 == 3 * 0.1)"
      ]
    },
    {
      "cell_type": "markdown",
      "metadata": {
        "id": "Ilt012_DQv3c"
      },
      "source": [
        "#### 18. Create a 5x5 matrix with values 1,2,3,4 just below the diagonal (★☆☆) \n",
        "(**hint**: np.diag)"
      ]
    },
    {
      "cell_type": "code",
      "execution_count": null,
      "metadata": {
        "id": "oNRUiqJ3Qv3d",
        "colab": {
          "base_uri": "https://localhost:8080/"
        },
        "outputId": "df3792ad-9420-4d0b-a228-21de1553a082"
      },
      "outputs": [
        {
          "output_type": "stream",
          "name": "stdout",
          "text": [
            "[[0 0 0 0 0]\n",
            " [1 0 0 0 0]\n",
            " [0 2 0 0 0]\n",
            " [0 0 3 0 0]\n",
            " [0 0 0 4 0]]\n"
          ]
        }
      ],
      "source": [
        "Z = np.diag(1+np.arange(4),k=-1)\n",
        "print(Z)"
      ]
    },
    {
      "cell_type": "markdown",
      "metadata": {
        "id": "gULBmhsFQv3d"
      },
      "source": [
        "#### 19. Create a 8x8 matrix and fill it with a checkerboard pattern (★☆☆) \n",
        "(**hint**: array\\[::2\\])"
      ]
    },
    {
      "cell_type": "code",
      "execution_count": null,
      "metadata": {
        "id": "itymrL1iQv3e",
        "colab": {
          "base_uri": "https://localhost:8080/"
        },
        "outputId": "c1d8dc23-ed52-478c-80f5-aaeac6f96906"
      },
      "outputs": [
        {
          "output_type": "stream",
          "name": "stdout",
          "text": [
            "[[0 0 0 0 0 0 0 0]\n",
            " [1 0 1 0 1 0 1 0]\n",
            " [0 0 0 0 0 0 0 0]\n",
            " [1 0 1 0 1 0 1 0]\n",
            " [0 0 0 0 0 0 0 0]\n",
            " [1 0 1 0 1 0 1 0]\n",
            " [0 0 0 0 0 0 0 0]\n",
            " [1 0 1 0 1 0 1 0]]\n"
          ]
        }
      ],
      "source": [
        "Z = np.zeros((8,8),dtype=int)\n",
        "Z[1::2,::2] = 1\n",
        "#Z[::2,1::2] = 1\n",
        "print(Z)"
      ]
    },
    {
      "cell_type": "markdown",
      "metadata": {
        "id": "E8723SlyQv3f"
      },
      "source": [
        "#### 20. Consider a (6,7,8) shape array, what is the index (x,y,z) of the 100th element? \n",
        "(**hint**: np.unravel_index)"
      ]
    },
    {
      "cell_type": "code",
      "execution_count": null,
      "metadata": {
        "id": "xqflrLSxQv3f",
        "colab": {
          "base_uri": "https://localhost:8080/"
        },
        "outputId": "a497457b-9709-48bf-c1bc-9b4b0ef4f5ef"
      },
      "outputs": [
        {
          "output_type": "stream",
          "name": "stdout",
          "text": [
            "(1, 5, 4)\n"
          ]
        }
      ],
      "source": [
        "print(np.unravel_index(100,(6,7,8)))"
      ]
    },
    {
      "cell_type": "markdown",
      "metadata": {
        "id": "Nb8O2nQdQv3g"
      },
      "source": [
        "#### 21. Create a checkerboard 8x8 matrix using the tile function (★☆☆) \n",
        "(**hint**: np.tile)"
      ]
    },
    {
      "cell_type": "code",
      "execution_count": null,
      "metadata": {
        "id": "iF_WQ5T8Qv3g",
        "colab": {
          "base_uri": "https://localhost:8080/"
        },
        "outputId": "6c625eba-a9fb-48cc-aa8d-0f6a436a54e3"
      },
      "outputs": [
        {
          "output_type": "stream",
          "name": "stdout",
          "text": [
            "[[0 1 0 1 0 1 0 1]\n",
            " [1 0 1 0 1 0 1 0]\n",
            " [0 1 0 1 0 1 0 1]\n",
            " [1 0 1 0 1 0 1 0]\n",
            " [0 1 0 1 0 1 0 1]\n",
            " [1 0 1 0 1 0 1 0]\n",
            " [0 1 0 1 0 1 0 1]\n",
            " [1 0 1 0 1 0 1 0]]\n"
          ]
        }
      ],
      "source": [
        "\n",
        "Z = np.tile(np. array([[0,1],[1,0]]), (4,4))\n",
        "print(Z)"
      ]
    },
    {
      "cell_type": "markdown",
      "metadata": {
        "id": "ZqiW0MugQv3h"
      },
      "source": [
        "#### 22. Normalize a 5x5 random matrix (★☆☆) \n",
        "(**hint**: (x - min) / (max - min))"
      ]
    },
    {
      "cell_type": "code",
      "execution_count": null,
      "metadata": {
        "id": "NCHLMQ12Qv3h",
        "colab": {
          "base_uri": "https://localhost:8080/"
        },
        "outputId": "f70b01a4-c19d-40c5-d4ce-a6de16362898"
      },
      "outputs": [
        {
          "output_type": "stream",
          "name": "stdout",
          "text": [
            "[[0.81194247 0.28129035 0.95099414 0.79333543 0.76378778]\n",
            " [0.39639384 0.         0.38406753 0.7683669  0.45030922]\n",
            " [0.36955205 0.34852708 0.67034343 0.28178781 0.56942444]\n",
            " [0.48460062 0.7697943  0.84939398 1.         0.01892438]\n",
            " [0.64570097 0.74867037 0.67775573 0.68268363 0.14700257]]\n"
          ]
        }
      ],
      "source": [
        "Z = np.random.random((5,5))\n",
        "Zmax, Zmin = Z.max(), Z.min()\n",
        "Z= (Z-Zmin)/(Zmax-Zmin)\n",
        "print (Z)"
      ]
    },
    {
      "cell_type": "markdown",
      "metadata": {
        "id": "cL1W1e82Qv3i"
      },
      "source": [
        "#### 23. Create a custom dtype that describes a color as four unsigned bytes (RGBA) (★☆☆) \n",
        "(**hint**: np.dtype)"
      ]
    },
    {
      "cell_type": "code",
      "execution_count": null,
      "metadata": {
        "collapsed": true,
        "id": "NJjUc008Qv3i",
        "colab": {
          "base_uri": "https://localhost:8080/"
        },
        "outputId": "05ed803f-ae5e-43ef-dddd-f664ce01b6cf"
      },
      "outputs": [
        {
          "output_type": "stream",
          "name": "stdout",
          "text": [
            "1\n"
          ]
        },
        {
          "output_type": "execute_result",
          "data": {
            "text/plain": [
              "numpy.ndarray"
            ]
          },
          "metadata": {},
          "execution_count": 8
        }
      ],
      "source": [
        "RGBA = np.dtype([('red',np.uint8),('green',np.uint8),('blue',np.uint8),('alpha',np.uint8)])\n",
        "color = np.array((1,2,4,3),dtype = RGBA)\n",
        "print(color['red'])\n",
        "type(color)"
      ]
    },
    {
      "cell_type": "markdown",
      "metadata": {
        "id": "oFrWT4DAQv3j"
      },
      "source": [
        "#### 24. Multiply a 5x3 matrix by a 3x2 matrix (real matrix product) (★☆☆) \n",
        "(**hint**: np.dot | @)"
      ]
    },
    {
      "cell_type": "code",
      "execution_count": null,
      "metadata": {
        "id": "6HW_3DICQv3j",
        "colab": {
          "base_uri": "https://localhost:8080/"
        },
        "outputId": "5c30f661-2ec2-4891-f40e-9e7dbe809fe2"
      },
      "outputs": [
        {
          "output_type": "stream",
          "name": "stdout",
          "text": [
            "[[0.44437665 0.65895806]\n",
            " [0.87662409 0.97177073]\n",
            " [1.56188501 1.1553139 ]\n",
            " [0.43363248 0.67927122]\n",
            " [0.94780491 0.57727305]]\n"
          ]
        },
        {
          "output_type": "execute_result",
          "data": {
            "text/plain": [
              "array([[0.44437665, 0.65895806],\n",
              "       [0.87662409, 0.97177073],\n",
              "       [1.56188501, 1.1553139 ],\n",
              "       [0.43363248, 0.67927122],\n",
              "       [0.94780491, 0.57727305]])"
            ]
          },
          "metadata": {},
          "execution_count": 9
        }
      ],
      "source": [
        "arr_1 = np.random.random((5,3))\n",
        "arr_2 = np.random.random((3,2))\n",
        "print(arr_1 @ arr_2)\n",
        "np.dot(arr_1,arr_2)"
      ]
    },
    {
      "cell_type": "markdown",
      "metadata": {
        "id": "T-dOujawQv3k"
      },
      "source": [
        "#### 25. Given a 1D array, negate all elements which are between 3 and 8, in place. (★☆☆) \n",
        "(**hint**: >, <=)"
      ]
    },
    {
      "cell_type": "code",
      "execution_count": null,
      "metadata": {
        "id": "GkrHKmRXQv3k",
        "colab": {
          "base_uri": "https://localhost:8080/"
        },
        "outputId": "369b46b8-67b9-4c5b-ee97-e51046a3037e"
      },
      "outputs": [
        {
          "output_type": "stream",
          "name": "stdout",
          "text": [
            "[ 0  1  2 -1 -1 -1 -1 -1 -1  9 10]\n"
          ]
        }
      ],
      "source": [
        "x = np.arange(11)\n",
        "x[(x >= 3) & (x <= 8)] = -1\n",
        "print(x)"
      ]
    },
    {
      "cell_type": "markdown",
      "metadata": {
        "id": "aWSvJ2HoQv3l"
      },
      "source": [
        "#### 26. What is the output of the following script? (★☆☆) \n",
        "(**hint**: np.sum)"
      ]
    },
    {
      "cell_type": "markdown",
      "metadata": {
        "id": "Li8stf5CQv3l"
      },
      "source": [
        "```python\n",
        "# Author: Jake VanderPlas\n",
        "\n",
        "print(sum(range(5),-1))\n",
        "from numpy import *\n",
        "print(sum(range(5),-1))\n",
        "```"
      ]
    },
    {
      "cell_type": "code",
      "execution_count": null,
      "metadata": {
        "id": "sfr0HCZbQv3m",
        "colab": {
          "base_uri": "https://localhost:8080/"
        },
        "outputId": "43654825-5141-462c-b852-42df04291882"
      },
      "outputs": [
        {
          "output_type": "stream",
          "name": "stdout",
          "text": [
            "10\n",
            "10\n"
          ]
        }
      ],
      "source": [
        "print(np.sum(range(5),-1))\n",
        "from numpy import *\n",
        "print(np.sum(range(5),-1))"
      ]
    },
    {
      "cell_type": "markdown",
      "metadata": {
        "id": "aNECYl1RQv3m"
      },
      "source": [
        "#### 27. Consider an integer vector Z, which of these expressions are legal? (★☆☆)"
      ]
    },
    {
      "cell_type": "markdown",
      "metadata": {
        "id": "UBr6QFl3Qv3n"
      },
      "source": [
        "```python\n",
        "Z**Z\n",
        "2 << Z >> 2\n",
        "Z <- Z\n",
        "1j*Z\n",
        "Z/1/1\n",
        "Z<Z>Z\n",
        "```"
      ]
    },
    {
      "cell_type": "code",
      "execution_count": null,
      "metadata": {
        "id": "L0DVAuh0Qv3o",
        "colab": {
          "base_uri": "https://localhost:8080/",
          "height": 200
        },
        "outputId": "df7e1193-b179-45cd-f373-957820b00228"
      },
      "outputs": [
        {
          "output_type": "error",
          "ename": "ValueError",
          "evalue": "ignored",
          "traceback": [
            "\u001b[0;31m---------------------------------------------------------------------------\u001b[0m",
            "\u001b[0;31mValueError\u001b[0m                                Traceback (most recent call last)",
            "\u001b[0;32m<ipython-input-17-16dbd2c3c822>\u001b[0m in \u001b[0;36m<module>\u001b[0;34m()\u001b[0m\n\u001b[1;32m      5\u001b[0m \u001b[0;36m1j\u001b[0m \u001b[0;34m*\u001b[0m \u001b[0mZ\u001b[0m       \u001b[0;31m# = [0 + 0.j, 0 + 1.j, 0 + 2.j]\u001b[0m\u001b[0;34m\u001b[0m\u001b[0;34m\u001b[0m\u001b[0m\n\u001b[1;32m      6\u001b[0m \u001b[0mZ\u001b[0m \u001b[0;34m/\u001b[0m \u001b[0;36m1\u001b[0m \u001b[0;34m/\u001b[0m \u001b[0;36m1\u001b[0m    \u001b[0;31m# = [0, 1, 2]\u001b[0m\u001b[0;34m\u001b[0m\u001b[0;34m\u001b[0m\u001b[0m\n\u001b[0;32m----> 7\u001b[0;31m \u001b[0mZ\u001b[0m \u001b[0;34m<\u001b[0m \u001b[0mZ\u001b[0m \u001b[0;34m>\u001b[0m \u001b[0mZ\u001b[0m\u001b[0;34m\u001b[0m\u001b[0;34m\u001b[0m\u001b[0m\n\u001b[0m",
            "\u001b[0;31mValueError\u001b[0m: The truth value of an array with more than one element is ambiguous. Use a.any() or a.all()"
          ]
        }
      ],
      "source": [
        "Z = np.arange(3)\n",
        "Z ** Z       # = [0^0, 1^1, 2^2] = [1, 1, 4]\n",
        "2 << Z >> 2  # = [0, 1, 2]\n",
        "Z < - Z      # = [False, False, False]\n",
        "1j * Z       # = [0 + 0.j, 0 + 1.j, 0 + 2.j]\n",
        "Z / 1 / 1    # = [0, 1, 2]\n",
        "Z < Z > Z "
      ]
    },
    {
      "cell_type": "markdown",
      "metadata": {
        "id": "Oc8rYcdoQv3q"
      },
      "source": [
        "#### 28. What are the result of the following expressions?"
      ]
    },
    {
      "cell_type": "markdown",
      "metadata": {
        "id": "m6zP1jVwQv3q"
      },
      "source": [
        "```python\n",
        "np.array(0) / np.array(0)\n",
        "np.array(0) // np.array(0)\n",
        "np.array([np.nan]).astype(int).astype(float)\n",
        "```"
      ]
    },
    {
      "cell_type": "code",
      "execution_count": null,
      "metadata": {
        "id": "FlbFIsK3Qv3r",
        "colab": {
          "base_uri": "https://localhost:8080/"
        },
        "outputId": "155e97dd-6f13-4baf-ddac-e48846a62653"
      },
      "outputs": [
        {
          "output_type": "stream",
          "name": "stderr",
          "text": [
            "/usr/local/lib/python3.7/dist-packages/ipykernel_launcher.py:1: RuntimeWarning: invalid value encountered in true_divide\n",
            "  \"\"\"Entry point for launching an IPython kernel.\n",
            "/usr/local/lib/python3.7/dist-packages/ipykernel_launcher.py:2: RuntimeWarning: divide by zero encountered in floor_divide\n",
            "  \n"
          ]
        },
        {
          "output_type": "execute_result",
          "data": {
            "text/plain": [
              "array([-9.22337204e+18])"
            ]
          },
          "metadata": {},
          "execution_count": 20
        }
      ],
      "source": [
        "np.array(0) / np.array(0)\n",
        "np.array(0) // np.array(0)\n",
        "np.array([np.nan]).astype(int).astype(float)"
      ]
    },
    {
      "cell_type": "markdown",
      "metadata": {
        "id": "FcFllcJAQv3t"
      },
      "source": [
        "#### 29. How to round away from zero a float array ? (★☆☆) \n",
        "(**hint**: np.uniform, np.copysign, np.ceil, np.abs)"
      ]
    },
    {
      "cell_type": "code",
      "execution_count": null,
      "metadata": {
        "id": "BUPvzELdQv3u",
        "colab": {
          "base_uri": "https://localhost:8080/"
        },
        "outputId": "315f0925-c526-43a8-df75-9021cb466565"
      },
      "outputs": [
        {
          "output_type": "execute_result",
          "data": {
            "text/plain": [
              "array([ 5.,  9., -9.,  1.,  5.,  2.,  5., -5.,  9., -1.])"
            ]
          },
          "metadata": {},
          "execution_count": 21
        }
      ],
      "source": [
        "x = np.random.uniform(-10, +10, 10)\n",
        "np.copysign(np.ceil(np.abs(x)), x)"
      ]
    },
    {
      "cell_type": "markdown",
      "metadata": {
        "id": "uwd94UVUQv3u"
      },
      "source": [
        "#### 30. How to find common values between two arrays? (★☆☆) \n",
        "(**hint**: np.intersect1d)"
      ]
    },
    {
      "cell_type": "code",
      "execution_count": 2,
      "metadata": {
        "id": "SoqOFmasQv3v",
        "colab": {
          "base_uri": "https://localhost:8080/"
        },
        "outputId": "1a783090-ad70-4106-a4bc-a73a67b1fad2"
      },
      "outputs": [
        {
          "output_type": "execute_result",
          "data": {
            "text/plain": [
              "array([5, 6, 7, 8, 9])"
            ]
          },
          "metadata": {},
          "execution_count": 2
        }
      ],
      "source": [
        "x = np.arange(0, 10)\n",
        "y = np.arange(5, 15)\n",
        "np.intersect1d(x, y)"
      ]
    },
    {
      "cell_type": "markdown",
      "metadata": {
        "id": "RmAA37QPQv3v"
      },
      "source": [
        "#### 31. How to ignore all numpy warnings (not recommended)? (★☆☆) \n",
        "(**hint**: np.seterr, np.errstate)"
      ]
    },
    {
      "cell_type": "code",
      "execution_count": 3,
      "metadata": {
        "id": "S_ycSUN8Qv3w"
      },
      "outputs": [],
      "source": [
        "defaults = np.seterr(all=\"ignore\")\n",
        "Z = np.ones(1) / 0"
      ]
    },
    {
      "cell_type": "markdown",
      "metadata": {
        "id": "jBGUwd59Qv3w"
      },
      "source": [
        "#### 32. Is the following expressions true? (★☆☆) \n",
        "(**hint**: imaginary number)"
      ]
    },
    {
      "cell_type": "markdown",
      "metadata": {
        "id": "NOBs7RiLQv3x"
      },
      "source": [
        "```python\n",
        "np.sqrt(-1) == np.emath.sqrt(-1)\n",
        "```"
      ]
    },
    {
      "cell_type": "code",
      "execution_count": 4,
      "metadata": {
        "id": "Fs5_6SNAQv3x",
        "colab": {
          "base_uri": "https://localhost:8080/"
        },
        "outputId": "fa8f7c5f-ffbf-4f77-e074-b55792e01661"
      },
      "outputs": [
        {
          "output_type": "stream",
          "name": "stdout",
          "text": [
            "False\n"
          ]
        }
      ],
      "source": [
        "print(np.sqrt(-1) == np.emath.sqrt(-1))"
      ]
    },
    {
      "cell_type": "markdown",
      "metadata": {
        "id": "G4i8C7kwQv3y"
      },
      "source": [
        "#### 33. How to get the dates of yesterday, today and tomorrow? (★☆☆) \n",
        "(**hint**: np.datetime64, np.timedelta64)"
      ]
    },
    {
      "cell_type": "code",
      "execution_count": 17,
      "metadata": {
        "collapsed": true,
        "id": "nu5YcQHUQv3y",
        "colab": {
          "base_uri": "https://localhost:8080/"
        },
        "outputId": "ba17fb2c-a976-4ec5-8506-0a0924eb688e"
      },
      "outputs": [
        {
          "output_type": "stream",
          "name": "stdout",
          "text": [
            "2022-06-28\n",
            "2022-06-27\n",
            "2022-06-29\n"
          ]
        }
      ],
      "source": [
        "today = np.datetime64('today', 'D')\n",
        "yesterday = np.datetime64('today', 'D') - np.timedelta64(1, 'D')\n",
        "tomorrow = today + np.timedelta64(1, 'D')\n",
        "print(today)\n",
        "print(yesterday)\n",
        "print(tomorrow)"
      ]
    },
    {
      "cell_type": "markdown",
      "metadata": {
        "id": "sol6qb-TQv3z"
      },
      "source": [
        "#### 34. How to get all the dates corresponding to the month of July 2016? (★★☆) \n",
        "(**hint**: np.arange(dtype=datetime64\\['D'\\]))"
      ]
    },
    {
      "cell_type": "code",
      "execution_count": 9,
      "metadata": {
        "id": "9nbglIVeQv38",
        "colab": {
          "base_uri": "https://localhost:8080/"
        },
        "outputId": "d0b7172c-3bad-491c-d6c6-4c9c0b116b1b"
      },
      "outputs": [
        {
          "output_type": "execute_result",
          "data": {
            "text/plain": [
              "array(['2016-07-01', '2016-07-02', '2016-07-03', '2016-07-04',\n",
              "       '2016-07-05', '2016-07-06', '2016-07-07', '2016-07-08',\n",
              "       '2016-07-09', '2016-07-10', '2016-07-11', '2016-07-12',\n",
              "       '2016-07-13', '2016-07-14', '2016-07-15', '2016-07-16',\n",
              "       '2016-07-17', '2016-07-18', '2016-07-19', '2016-07-20',\n",
              "       '2016-07-21', '2016-07-22', '2016-07-23', '2016-07-24',\n",
              "       '2016-07-25', '2016-07-26', '2016-07-27', '2016-07-28',\n",
              "       '2016-07-29', '2016-07-30', '2016-07-31'], dtype='datetime64[D]')"
            ]
          },
          "metadata": {},
          "execution_count": 9
        }
      ],
      "source": [
        "x = np.arange('2016-07', '2016-08', dtype='datetime64[D]')\n",
        "x"
      ]
    },
    {
      "cell_type": "markdown",
      "metadata": {
        "id": "6nPiRaL_Qv39"
      },
      "source": [
        "#### 35. How to compute ((A+B)\\*(-A/2)) in place (without copy)? (★★☆) \n",
        "(**hint**: np.add(out=), np.negative(out=), np.multiply(out=), np.divide(out=))"
      ]
    },
    {
      "cell_type": "code",
      "execution_count": 20,
      "metadata": {
        "id": "64kC0NZxQv3-",
        "colab": {
          "base_uri": "https://localhost:8080/"
        },
        "outputId": "c8794d1d-3881-4d53-c008-606f6703f2c7"
      },
      "outputs": [
        {
          "output_type": "stream",
          "name": "stdout",
          "text": [
            "[1. 1. 1.]\n",
            "[2. 2. 2.]\n",
            "[3. 3. 3.]\n"
          ]
        },
        {
          "output_type": "execute_result",
          "data": {
            "text/plain": [
              "array([-1.5, -1.5, -1.5])"
            ]
          },
          "metadata": {},
          "execution_count": 20
        }
      ],
      "source": [
        "A = np.ones(3) * 1\n",
        "print(A)\n",
        "B = np.ones(3) * 2\n",
        "print(B)\n",
        "C = np.ones(3) * 3\n",
        "print(C)\n",
        "np.add(A, B, out=B)\n",
        "np.divide(A, 2, out=A)\n",
        "np.negative(A, out=A)\n",
        "np.multiply(A, B, out=A)"
      ]
    },
    {
      "cell_type": "markdown",
      "metadata": {
        "id": "kKNCSz3YQv3_"
      },
      "source": [
        "#### 36. Extract the integer part of a random array using 5 different methods (★★☆) \n",
        "(**hint**: %, np.floor, np.ceil, astype, np.trunc)"
      ]
    },
    {
      "cell_type": "code",
      "execution_count": 21,
      "metadata": {
        "id": "acoixViQQv3_",
        "colab": {
          "base_uri": "https://localhost:8080/"
        },
        "outputId": "a1f83762-e482-4e2e-fd5d-88ca36d8c774"
      },
      "outputs": [
        {
          "output_type": "stream",
          "name": "stdout",
          "text": [
            "[ 0.34108764 -2.51934685 -4.51061491 -0.67259805  1.05049541  9.54222321\n",
            " -5.90185684  7.80936318  5.56134383  2.6163092 ]\n"
          ]
        }
      ],
      "source": [
        "x = np.random.uniform(-10, +10, 10)\n",
        "x.astype(np.int32)\n",
        "np.trunc(x)\n",
        "print(x)"
      ]
    },
    {
      "cell_type": "markdown",
      "metadata": {
        "id": "IrDCP-EvQv4A"
      },
      "source": [
        "#### 37. Create a 5x5 matrix with row values ranging from 0 to 4 (★★☆) \n",
        "(**hint**: np.arange)"
      ]
    },
    {
      "cell_type": "code",
      "execution_count": 23,
      "metadata": {
        "id": "vGPViAz2Qv4A",
        "colab": {
          "base_uri": "https://localhost:8080/"
        },
        "outputId": "7885503c-2de9-4e07-ccbc-95a8ddb810ed"
      },
      "outputs": [
        {
          "output_type": "stream",
          "name": "stdout",
          "text": [
            "[[0. 0. 0. 0. 0.]\n",
            " [0. 0. 0. 0. 0.]\n",
            " [0. 0. 0. 0. 0.]\n",
            " [0. 0. 0. 0. 0.]\n",
            " [0. 0. 0. 0. 0.]]\n",
            "[[0. 1. 2. 3. 4.]\n",
            " [0. 1. 2. 3. 4.]\n",
            " [0. 1. 2. 3. 4.]\n",
            " [0. 1. 2. 3. 4.]\n",
            " [0. 1. 2. 3. 4.]]\n"
          ]
        }
      ],
      "source": [
        "x = np.zeros((5, 5))\n",
        "print(x)\n",
        "x += np.arange(5)\n",
        "print(x)\n"
      ]
    },
    {
      "cell_type": "markdown",
      "metadata": {
        "id": "isKuYeXOQv4B"
      },
      "source": [
        "#### 38. Consider a generator function that generates 10 integers and use it to build an array (★☆☆) \n",
        "(**hint**: np.fromiter)"
      ]
    },
    {
      "cell_type": "code",
      "execution_count": 30,
      "metadata": {
        "id": "AvxCA1C_Qv4B",
        "colab": {
          "base_uri": "https://localhost:8080/"
        },
        "outputId": "7e0194a7-eda4-4c47-89dc-58725f27fcd8"
      },
      "outputs": [
        {
          "output_type": "stream",
          "name": "stdout",
          "text": [
            "<generator object generate_integers at 0x7f1d398f4cd0>\n",
            "0\n",
            "1\n",
            "2\n",
            "3\n",
            "4\n",
            "5\n",
            "6\n",
            "7\n",
            "8\n",
            "9\n"
          ]
        },
        {
          "output_type": "execute_result",
          "data": {
            "text/plain": [
              "array([0., 1., 2., 3., 4., 5., 6., 7., 8., 9.], dtype=float32)"
            ]
          },
          "metadata": {},
          "execution_count": 30
        }
      ],
      "source": [
        "def generate_integers():\n",
        "    for i in range(10):\n",
        "        yield i\n",
        "        print(i)\n",
        "print(generate_integers())\n",
        "np.fromiter(generate_integers(), dtype=np.float32, count=-1)"
      ]
    },
    {
      "cell_type": "markdown",
      "metadata": {
        "id": "I77wc1NQQv4C"
      },
      "source": [
        "#### 39. Create a vector of size 10 with values ranging from 0 to 1, both excluded (★★☆) \n",
        "(**hint**: np.linspace)"
      ]
    },
    {
      "cell_type": "code",
      "execution_count": 32,
      "metadata": {
        "id": "rOU78GruQv4C",
        "colab": {
          "base_uri": "https://localhost:8080/"
        },
        "outputId": "9683e86e-8b64-466e-cd44-813733ad433e"
      },
      "outputs": [
        {
          "output_type": "execute_result",
          "data": {
            "text/plain": [
              "array([0.1 , 0.19, 0.28, 0.37, 0.46, 0.55, 0.64, 0.73, 0.82, 0.91])"
            ]
          },
          "metadata": {},
          "execution_count": 32
        }
      ],
      "source": [
        "np.linspace(start=0.1, stop=1, num=10, endpoint=False)"
      ]
    },
    {
      "cell_type": "markdown",
      "metadata": {
        "id": "FQibbttgQv4D"
      },
      "source": [
        "#### 40. Create a random vector of size 10 and sort it (★★☆) \n",
        "(**hint**: sort)"
      ]
    },
    {
      "cell_type": "code",
      "execution_count": 33,
      "metadata": {
        "id": "KPL7OK11Qv4E"
      },
      "outputs": [],
      "source": [
        "x = np.random.random(size=10)\n",
        "x.sort()"
      ]
    },
    {
      "cell_type": "markdown",
      "metadata": {
        "id": "5Qf9Ia1wQv4E"
      },
      "source": [
        "#### 41. How to sum a small array faster than np.sum? (★★☆) \n",
        "(**hint**: np.add.reduce)"
      ]
    },
    {
      "cell_type": "code",
      "execution_count": 40,
      "metadata": {
        "id": "6NWtR8wbQv4F",
        "colab": {
          "base_uri": "https://localhost:8080/"
        },
        "outputId": "8c703c02-1592-42dc-bcb4-01913a2b6817"
      },
      "outputs": [
        {
          "output_type": "stream",
          "name": "stdout",
          "text": [
            "1656392512.5322137\n",
            "[     0      1      2 ... 999997 999998 999999]\n",
            "499999500000\n",
            "3.5858154296875\n",
            "1656392512.5359135\n",
            "4.711389541625977\n"
          ]
        }
      ],
      "source": [
        "import time\n",
        "\n",
        "begin_time = time.time()\n",
        "print(begin_time)\n",
        "x = np.arange(1000000)\n",
        "print(x)\n",
        "print(np.sum(x))\n",
        "end_time = time.time()\n",
        "print(str(1000*(end_time - begin_time)))\n",
        "\n",
        "begin_time2 = time.time()\n",
        "print(begin_time2)\n",
        "x = np.arange(1000000)\n",
        "np.add.reduce(x)\n",
        "end_time2 = time.time()\n",
        "print(str(1000*(end_time2 - begin_time2)))"
      ]
    },
    {
      "cell_type": "markdown",
      "metadata": {
        "id": "Y3Ap2n5nQv4F"
      },
      "source": [
        "#### 42. Consider two random array A and B, check if they are equal (★★☆) \n",
        "(**hint**: np.allclose, np.array\\_equal)"
      ]
    },
    {
      "cell_type": "code",
      "execution_count": 42,
      "metadata": {
        "id": "GzraADJfQv4G",
        "colab": {
          "base_uri": "https://localhost:8080/"
        },
        "outputId": "0a5c1088-21c7-48d6-884e-c21668b52839"
      },
      "outputs": [
        {
          "output_type": "execute_result",
          "data": {
            "text/plain": [
              "False"
            ]
          },
          "metadata": {},
          "execution_count": 42
        }
      ],
      "source": [
        "A = np.arange(10)\n",
        "B = np.arange(11)\n",
        "np.array_equal(A, B)"
      ]
    },
    {
      "cell_type": "markdown",
      "metadata": {
        "id": "nmW4v2DbQv4G"
      },
      "source": [
        "#### 43. Make an array immutable (read-only) (★★☆) \n",
        "(**hint**: flags.writeable)"
      ]
    },
    {
      "cell_type": "code",
      "execution_count": 45,
      "metadata": {
        "id": "koORd3kNQv4H",
        "colab": {
          "base_uri": "https://localhost:8080/",
          "height": 200
        },
        "outputId": "037b064d-c607-4310-f280-c6ba74b03c0c"
      },
      "outputs": [
        {
          "output_type": "error",
          "ename": "ValueError",
          "evalue": "ignored",
          "traceback": [
            "\u001b[0;31m---------------------------------------------------------------------------\u001b[0m",
            "\u001b[0;31mValueError\u001b[0m                                Traceback (most recent call last)",
            "\u001b[0;32m<ipython-input-45-2c37cbcb6cf7>\u001b[0m in \u001b[0;36m<module>\u001b[0;34m()\u001b[0m\n\u001b[1;32m      1\u001b[0m \u001b[0mx\u001b[0m \u001b[0;34m=\u001b[0m \u001b[0mnp\u001b[0m\u001b[0;34m.\u001b[0m\u001b[0mzeros\u001b[0m\u001b[0;34m(\u001b[0m\u001b[0;36m10\u001b[0m\u001b[0;34m)\u001b[0m\u001b[0;34m\u001b[0m\u001b[0;34m\u001b[0m\u001b[0m\n\u001b[1;32m      2\u001b[0m \u001b[0mx\u001b[0m\u001b[0;34m.\u001b[0m\u001b[0mflags\u001b[0m\u001b[0;34m.\u001b[0m\u001b[0mwriteable\u001b[0m \u001b[0;34m=\u001b[0m \u001b[0;32mFalse\u001b[0m\u001b[0;34m\u001b[0m\u001b[0;34m\u001b[0m\u001b[0m\n\u001b[0;32m----> 3\u001b[0;31m \u001b[0mx\u001b[0m\u001b[0;34m[\u001b[0m\u001b[0;36m1\u001b[0m\u001b[0;34m]\u001b[0m \u001b[0;34m=\u001b[0m \u001b[0;36m1\u001b[0m\u001b[0;34m\u001b[0m\u001b[0;34m\u001b[0m\u001b[0m\n\u001b[0m",
            "\u001b[0;31mValueError\u001b[0m: assignment destination is read-only"
          ]
        }
      ],
      "source": [
        "x = np.zeros(10)\n",
        "x.flags.writeable = False\n",
        "x[1] = 1"
      ]
    },
    {
      "cell_type": "markdown",
      "metadata": {
        "id": "NBxc_g-JQv4H"
      },
      "source": [
        "#### 44. Consider a random 10x2 matrix representing cartesian coordinates, convert them to polar coordinates (★★☆) \n",
        "(**hint**: np.sqrt, np.arctan2)"
      ]
    },
    {
      "cell_type": "code",
      "execution_count": 55,
      "metadata": {
        "id": "QTJgebk-Qv4I",
        "colab": {
          "base_uri": "https://localhost:8080/"
        },
        "outputId": "447427f4-fb5d-46ef-b2d3-c8042c279ac5"
      },
      "outputs": [
        {
          "output_type": "stream",
          "name": "stdout",
          "text": [
            "[[0.1320692  0.95365532]\n",
            " [0.29870458 0.97703761]\n",
            " [0.85999662 0.39940392]\n",
            " [0.85583018 0.83219199]\n",
            " [0.40310856 0.14772746]\n",
            " [0.95778385 0.74664267]\n",
            " [0.31846857 0.76067959]\n",
            " [0.22984055 0.88764858]\n",
            " [0.99356881 0.02281954]\n",
            " [0.81928166 0.90330951]]\n",
            "[0.1320692  0.29870458 0.85999662 0.85583018 0.40310856 0.95778385\n",
            " 0.31846857 0.22984055 0.99356881 0.81928166]\n",
            "[0.95365532 0.97703761 0.39940392 0.83219199 0.14772746 0.74664267\n",
            " 0.76067959 0.88764858 0.02281954 0.90330951]\n",
            "[0.96275684 1.02167848 0.94821815 1.19372895 0.42932495 1.2144238\n",
            " 0.82465488 0.91692239 0.99383083 1.2195042 ]\n",
            "[1.43318426 1.27409578 0.43478478 0.7713956  0.35127201 0.66214792\n",
            " 1.1743052  1.31742898 0.02296321 0.83413944]\n"
          ]
        }
      ],
      "source": [
        "Z = np.random.random((10, 2))\n",
        "print(Z)\n",
        "X, Y = Z[:, 0], Z[:, 1]\n",
        "print(X)\n",
        "print(Y)\n",
        "R = np.sqrt(X ** 2 + Y ** 2)\n",
        "T = np.arctan2(Y, X)\n",
        "print(R)\n",
        "print(T)"
      ]
    },
    {
      "cell_type": "markdown",
      "metadata": {
        "id": "ugA-ulLDQv4I"
      },
      "source": [
        "#### 45. Create random vector of size 10 and replace the maximum value by 0 (★★☆) \n",
        "(**hint**: argmax)"
      ]
    },
    {
      "cell_type": "code",
      "execution_count": 57,
      "metadata": {
        "id": "KYc54JEMQv4J",
        "colab": {
          "base_uri": "https://localhost:8080/"
        },
        "outputId": "e416ce4f-8ca6-423b-93b4-d0f56b036415"
      },
      "outputs": [
        {
          "output_type": "execute_result",
          "data": {
            "text/plain": [
              "array([0.47517672, 0.10497671, 0.37145892, 0.        , 0.47562115,\n",
              "       0.0769502 , 0.40776218, 0.        , 0.64227605, 0.49505176])"
            ]
          },
          "metadata": {},
          "execution_count": 57
        }
      ],
      "source": [
        "x = np.random.random(10)\n",
        "x[x == np.max(x)] = 0\n",
        "x[x.argmax()] = 0\n",
        "x"
      ]
    },
    {
      "cell_type": "markdown",
      "metadata": {
        "id": "i0MCKYbYQv4J"
      },
      "source": [
        "#### 46. Create a structured array with `x` and `y` coordinates covering the \\[0,1\\]x\\[0,1\\] area (★★☆) \n",
        "(**hint**: np.meshgrid)"
      ]
    },
    {
      "cell_type": "code",
      "execution_count": 59,
      "metadata": {
        "id": "GwJFGLVEQv4K",
        "colab": {
          "base_uri": "https://localhost:8080/"
        },
        "outputId": "2a0c93db-1269-42d3-e8fa-b3534c9d6e11"
      },
      "outputs": [
        {
          "output_type": "execute_result",
          "data": {
            "text/plain": [
              "array([[(0.  , 0.  ), (0.25, 0.  ), (0.5 , 0.  ), (0.75, 0.  ),\n",
              "        (1.  , 0.  )],\n",
              "       [(0.  , 0.25), (0.25, 0.25), (0.5 , 0.25), (0.75, 0.25),\n",
              "        (1.  , 0.25)],\n",
              "       [(0.  , 0.5 ), (0.25, 0.5 ), (0.5 , 0.5 ), (0.75, 0.5 ),\n",
              "        (1.  , 0.5 )],\n",
              "       [(0.  , 0.75), (0.25, 0.75), (0.5 , 0.75), (0.75, 0.75),\n",
              "        (1.  , 0.75)],\n",
              "       [(0.  , 1.  ), (0.25, 1.  ), (0.5 , 1.  ), (0.75, 1.  ),\n",
              "        (1.  , 1.  )]], dtype=[('x', '<f8'), ('y', '<f8')])"
            ]
          },
          "metadata": {},
          "execution_count": 59
        }
      ],
      "source": [
        "z = np.zeros((5, 5), [('x', float), ('y', float)])\n",
        "z['x'], z['y'] = np.meshgrid(np.linspace(0, 1, 5), np.linspace(0, 1, 5))\n",
        "z"
      ]
    },
    {
      "cell_type": "markdown",
      "metadata": {
        "id": "f-8Tisz3Qv4K"
      },
      "source": [
        "####  47. Given two arrays, X and Y, construct the Cauchy matrix C (Cij =1/(xi - yj)) \n",
        "(**hint**: np.subtract.outer)"
      ]
    },
    {
      "cell_type": "code",
      "execution_count": 60,
      "metadata": {
        "id": "yS7QY6b6Qv4K",
        "colab": {
          "base_uri": "https://localhost:8080/"
        },
        "outputId": "439ad4ef-7689-449e-90e4-4ec0a7964623"
      },
      "outputs": [
        {
          "output_type": "execute_result",
          "data": {
            "text/plain": [
              "array([[ 1.10822671e+08,  2.04970097e+05, -3.36995590e+04,\n",
              "        -1.88518419e+05,  2.64061954e+07],\n",
              "       [-8.53167003e+07,  1.44150114e+06,  2.37949717e+06,\n",
              "        -1.10328612e+05, -5.45320439e+04],\n",
              "       [-5.26538739e+04, -5.19630149e+04, -3.28835854e+05,\n",
              "        -2.65938100e+04,  3.32925746e+06],\n",
              "       [ 2.84585191e+06, -9.92542543e+04, -2.86820955e+04,\n",
              "         3.21203636e+05, -9.55889091e+04],\n",
              "       [-3.75618262e+04,  2.40501212e+06, -2.22885693e+04,\n",
              "        -2.32328891e+06,  3.91481219e+05]])"
            ]
          },
          "metadata": {},
          "execution_count": 60
        }
      ],
      "source": [
        "x = np.random.random((5, 5))\n",
        "y = np.random.random((5, 5))\n",
        "c = 1 / (x - y)\n",
        "c = 1 / np.subtract.outer(x, y)\n",
        "np.linalg.det(c)"
      ]
    },
    {
      "cell_type": "markdown",
      "metadata": {
        "id": "ykha_FvaQv4L"
      },
      "source": [
        "#### 48. Print the minimum and maximum representable value for each numpy scalar type (★★☆) \n",
        "(**hint**: np.iinfo, np.finfo, eps)"
      ]
    },
    {
      "cell_type": "code",
      "execution_count": 66,
      "metadata": {
        "id": "X3JJVPyfQv4L",
        "colab": {
          "base_uri": "https://localhost:8080/"
        },
        "outputId": "e627589c-0d30-4c17-bf05-7808287a5678"
      },
      "outputs": [
        {
          "output_type": "stream",
          "name": "stdout",
          "text": [
            "-128\n",
            "127\n",
            "-2147483648\n",
            "2147483647\n",
            "-9223372036854775808\n",
            "9223372036854775807\n",
            "-3.4028235e+38\n",
            "3.4028235e+38\n",
            "1.1920929e-07\n",
            "-1.7976931348623157e+308\n",
            "1.7976931348623157e+308\n",
            "2.220446049250313e-16\n"
          ]
        }
      ],
      "source": [
        "for dtype in [np.int8, np.int32, np.int64]:\n",
        "   print(np.iinfo(dtype).min)\n",
        "   print(np.iinfo(dtype).max)\n",
        "for dtype in [np.float32, np.float64]:\n",
        "   print(np.finfo(dtype).min)\n",
        "   print(np.finfo(dtype).max)\n",
        "   print(np.finfo(dtype).eps)"
      ]
    },
    {
      "cell_type": "markdown",
      "metadata": {
        "id": "CK9xCYJPQv4M"
      },
      "source": [
        "#### 49. How to print all the values of an array? (★★☆) \n",
        "(**hint**: np.set\\_printoptions)"
      ]
    },
    {
      "cell_type": "code",
      "execution_count": 67,
      "metadata": {
        "id": "Xy1TDz8lQv4M",
        "colab": {
          "base_uri": "https://localhost:8080/",
          "height": 363
        },
        "outputId": "1f28453c-7bb3-42d6-ffdc-90ed5113391b"
      },
      "outputs": [
        {
          "output_type": "error",
          "ename": "ValueError",
          "evalue": "ignored",
          "traceback": [
            "\u001b[0;31m---------------------------------------------------------------------------\u001b[0m",
            "\u001b[0;31mValueError\u001b[0m                                Traceback (most recent call last)",
            "\u001b[0;32m<ipython-input-67-b156af70c14d>\u001b[0m in \u001b[0;36m<module>\u001b[0;34m()\u001b[0m\n\u001b[0;32m----> 1\u001b[0;31m \u001b[0mnp\u001b[0m\u001b[0;34m.\u001b[0m\u001b[0mset_printoptions\u001b[0m\u001b[0;34m(\u001b[0m\u001b[0mthreshold\u001b[0m\u001b[0;34m=\u001b[0m\u001b[0mnp\u001b[0m\u001b[0;34m.\u001b[0m\u001b[0mnan\u001b[0m\u001b[0;34m)\u001b[0m\u001b[0;34m\u001b[0m\u001b[0;34m\u001b[0m\u001b[0m\n\u001b[0m\u001b[1;32m      2\u001b[0m \u001b[0mZ\u001b[0m \u001b[0;34m=\u001b[0m \u001b[0mnp\u001b[0m\u001b[0;34m.\u001b[0m\u001b[0mzeros\u001b[0m\u001b[0;34m(\u001b[0m\u001b[0;34m(\u001b[0m\u001b[0;36m25\u001b[0m\u001b[0;34m,\u001b[0m\u001b[0;36m25\u001b[0m\u001b[0;34m)\u001b[0m\u001b[0;34m)\u001b[0m\u001b[0;34m\u001b[0m\u001b[0;34m\u001b[0m\u001b[0m\n\u001b[1;32m      3\u001b[0m \u001b[0mprint\u001b[0m\u001b[0;34m(\u001b[0m\u001b[0mZ\u001b[0m\u001b[0;34m)\u001b[0m\u001b[0;34m\u001b[0m\u001b[0;34m\u001b[0m\u001b[0m\n",
            "\u001b[0;32m/usr/local/lib/python3.7/dist-packages/numpy/core/arrayprint.py\u001b[0m in \u001b[0;36mset_printoptions\u001b[0;34m(precision, threshold, edgeitems, linewidth, suppress, nanstr, infstr, formatter, sign, floatmode, legacy)\u001b[0m\n\u001b[1;32m    252\u001b[0m     opt = _make_options_dict(precision, threshold, edgeitems, linewidth,\n\u001b[1;32m    253\u001b[0m                              \u001b[0msuppress\u001b[0m\u001b[0;34m,\u001b[0m \u001b[0mnanstr\u001b[0m\u001b[0;34m,\u001b[0m \u001b[0minfstr\u001b[0m\u001b[0;34m,\u001b[0m \u001b[0msign\u001b[0m\u001b[0;34m,\u001b[0m \u001b[0mformatter\u001b[0m\u001b[0;34m,\u001b[0m\u001b[0;34m\u001b[0m\u001b[0;34m\u001b[0m\u001b[0m\n\u001b[0;32m--> 254\u001b[0;31m                              floatmode, legacy)\n\u001b[0m\u001b[1;32m    255\u001b[0m     \u001b[0;31m# formatter is always reset\u001b[0m\u001b[0;34m\u001b[0m\u001b[0;34m\u001b[0m\u001b[0;34m\u001b[0m\u001b[0m\n\u001b[1;32m    256\u001b[0m     \u001b[0mopt\u001b[0m\u001b[0;34m[\u001b[0m\u001b[0;34m'formatter'\u001b[0m\u001b[0;34m]\u001b[0m \u001b[0;34m=\u001b[0m \u001b[0mformatter\u001b[0m\u001b[0;34m\u001b[0m\u001b[0;34m\u001b[0m\u001b[0m\n",
            "\u001b[0;32m/usr/local/lib/python3.7/dist-packages/numpy/core/arrayprint.py\u001b[0m in \u001b[0;36m_make_options_dict\u001b[0;34m(precision, threshold, edgeitems, linewidth, suppress, nanstr, infstr, sign, formatter, floatmode, legacy)\u001b[0m\n\u001b[1;32m     86\u001b[0m             \u001b[0;32mraise\u001b[0m \u001b[0mTypeError\u001b[0m\u001b[0;34m(\u001b[0m\u001b[0;34m\"threshold must be numeric\"\u001b[0m\u001b[0;34m)\u001b[0m\u001b[0;34m\u001b[0m\u001b[0;34m\u001b[0m\u001b[0m\n\u001b[1;32m     87\u001b[0m         \u001b[0;32mif\u001b[0m \u001b[0mnp\u001b[0m\u001b[0;34m.\u001b[0m\u001b[0misnan\u001b[0m\u001b[0;34m(\u001b[0m\u001b[0mthreshold\u001b[0m\u001b[0;34m)\u001b[0m\u001b[0;34m:\u001b[0m\u001b[0;34m\u001b[0m\u001b[0;34m\u001b[0m\u001b[0m\n\u001b[0;32m---> 88\u001b[0;31m             raise ValueError(\"threshold must be non-NAN, try \"\n\u001b[0m\u001b[1;32m     89\u001b[0m                              \"sys.maxsize for untruncated representation\")\n\u001b[1;32m     90\u001b[0m \u001b[0;34m\u001b[0m\u001b[0m\n",
            "\u001b[0;31mValueError\u001b[0m: threshold must be non-NAN, try sys.maxsize for untruncated representation"
          ]
        }
      ],
      "source": [
        "np.set_printoptions(threshold=np.nan)\n",
        "Z = np.zeros((25,25))\n",
        "print(Z)"
      ]
    },
    {
      "cell_type": "markdown",
      "metadata": {
        "id": "N5ws7DMsQv4N"
      },
      "source": [
        "#### 50. How to find the closest value (to a given scalar) in a vector? (★★☆) \n",
        "(**hint**: argmin)"
      ]
    },
    {
      "cell_type": "code",
      "execution_count": 4,
      "metadata": {
        "id": "x7irwL_9Qv4O",
        "colab": {
          "base_uri": "https://localhost:8080/"
        },
        "outputId": "7b2be75f-681e-4197-84dc-cc0f70d58219"
      },
      "outputs": [
        {
          "output_type": "stream",
          "name": "stdout",
          "text": [
            "50\n"
          ]
        }
      ],
      "source": [
        "Z = np.arange(100)\n",
        "v = np.random.uniform(0,100)\n",
        "index = (np.abs(Z-v)).argmin()\n",
        "print(Z[index])"
      ]
    },
    {
      "cell_type": "markdown",
      "metadata": {
        "id": "ZHLRIcpHQv4O"
      },
      "source": [
        "#### 51. Create a structured array representing a position (x,y) and a color (r,g,b) (★★☆) \n",
        "(**hint**: dtype)"
      ]
    },
    {
      "cell_type": "code",
      "execution_count": 3,
      "metadata": {
        "id": "5uHF1DTEQv4P",
        "colab": {
          "base_uri": "https://localhost:8080/"
        },
        "outputId": "2d5653f5-5730-45a9-929c-475088235fb6"
      },
      "outputs": [
        {
          "output_type": "stream",
          "name": "stdout",
          "text": [
            "[((0., 0.), (0., 0., 0.)) ((0., 0.), (0., 0., 0.))\n",
            " ((0., 0.), (0., 0., 0.)) ((0., 0.), (0., 0., 0.))\n",
            " ((0., 0.), (0., 0., 0.)) ((0., 0.), (0., 0., 0.))\n",
            " ((0., 0.), (0., 0., 0.)) ((0., 0.), (0., 0., 0.))\n",
            " ((0., 0.), (0., 0., 0.)) ((0., 0.), (0., 0., 0.))]\n"
          ]
        },
        {
          "output_type": "stream",
          "name": "stderr",
          "text": [
            "/usr/local/lib/python3.7/dist-packages/ipykernel_launcher.py:5: FutureWarning: Passing (type, 1) or '1type' as a synonym of type is deprecated; in a future version of numpy, it will be understood as (type, (1,)) / '(1,)type'.\n",
            "  \"\"\"\n"
          ]
        }
      ],
      "source": [
        "Z = np.zeros(10, [ ('position', [ ('x', float, 1),\n",
        "                                   ('y', float, 1)]),\n",
        "                    ('color',    [ ('r', float, 1),\n",
        "                                   ('g', float, 1),\n",
        "                                   ('b', float, 1)])])\n",
        "print(Z)"
      ]
    },
    {
      "cell_type": "markdown",
      "metadata": {
        "id": "0f4Yd7jEQv4P"
      },
      "source": [
        "#### 52. Consider a random vector with shape (100,2) representing coordinates, find point by point distances (★★☆) \n",
        "(**hint**: np.atleast\\_2d, T, np.sqrt)"
      ]
    },
    {
      "cell_type": "code",
      "execution_count": 7,
      "metadata": {
        "id": "HRNnkHnpQv4Q",
        "colab": {
          "base_uri": "https://localhost:8080/"
        },
        "outputId": "83cb183e-3c4a-412c-f91a-85f74e775a46"
      },
      "outputs": [
        {
          "output_type": "stream",
          "name": "stdout",
          "text": [
            "[[0.         0.41954067 0.34816532 0.82993784 0.37608579 0.58415475\n",
            "  0.43141658 0.90984607 0.47504421 0.53507901]\n",
            " [0.41954067 0.         0.4608422  0.8324783  0.76836316 0.63115895\n",
            "  0.76111297 1.09220252 0.1671834  0.36338858]\n",
            " [0.34816532 0.4608422  0.         0.48239166 0.45017699 0.23705206\n",
            "  0.36013722 0.63817266 0.38306962 0.29394507]\n",
            " [0.82993784 0.8324783  0.48239166 0.         0.8122485  0.24580101\n",
            "  0.65242881 0.43694573 0.6829293  0.48050379]\n",
            " [0.37608579 0.76836316 0.45017699 0.8122485  0.         0.60073\n",
            "  0.16991787 0.69988604 0.77103574 0.73956275]\n",
            " [0.58415475 0.63115895 0.23705206 0.24580101 0.60073    0.\n",
            "  0.4576873  0.48352764 0.503465   0.32431775]\n",
            " [0.43141658 0.76111297 0.36013722 0.65242881 0.16991787 0.4576873\n",
            "  0.         0.53737811 0.72684961 0.65264628]\n",
            " [0.90984607 1.09220252 0.63817266 0.43694573 0.69988604 0.48352764\n",
            "  0.53737811 0.         0.98133523 0.80777106]\n",
            " [0.47504421 0.1671834  0.38306962 0.6829293  0.77103574 0.503465\n",
            "  0.72684961 0.98133523 0.         0.20397684]\n",
            " [0.53507901 0.36338858 0.29394507 0.48050379 0.73956275 0.32431775\n",
            "  0.65264628 0.80777106 0.20397684 0.        ]]\n"
          ]
        }
      ],
      "source": [
        "Z = np.random.random((10,2))\n",
        "Z\n",
        "X,Y = np.atleast_2d(Z[:,0]), np.atleast_2d(Z[:,1])\n",
        "D = np.sqrt( (X-X.T)**2 + (Y-Y.T)**2)\n",
        "print(D)"
      ]
    },
    {
      "cell_type": "markdown",
      "metadata": {
        "id": "joz9IUOjQv4Q"
      },
      "source": [
        "#### 53. How to convert a float (32 bits) array into an integer (32 bits) in place? \n",
        "(**hint**: astype(copy=False))"
      ]
    },
    {
      "cell_type": "code",
      "execution_count": 9,
      "metadata": {
        "id": "_7j_F2LqQv4R",
        "colab": {
          "base_uri": "https://localhost:8080/"
        },
        "outputId": "691410f1-80e1-450c-ba99-aca822c40efc"
      },
      "outputs": [
        {
          "output_type": "execute_result",
          "data": {
            "text/plain": [
              "array([0., 1., 2., 3., 4., 5., 6., 7., 8., 9.], dtype=float32)"
            ]
          },
          "metadata": {},
          "execution_count": 9
        }
      ],
      "source": [
        "Z = np.arange(10, dtype=np.int32)\n",
        "Z = Z.astype(np.float32, copy=False)\n",
        "Z"
      ]
    },
    {
      "cell_type": "markdown",
      "metadata": {
        "id": "tBg_eHU7Qv4R"
      },
      "source": [
        "#### 54. How to read the following file? (★★☆) \n",
        "(**hint**: np.genfromtxt)"
      ]
    },
    {
      "cell_type": "markdown",
      "metadata": {
        "id": "qzd3jV2zQv4S"
      },
      "source": [
        "```\n",
        "1, 2, 3, 4, 5\n",
        "6,  ,  , 7, 8\n",
        " ,  , 9,10,11\n",
        "```"
      ]
    },
    {
      "cell_type": "code",
      "execution_count": 10,
      "metadata": {
        "id": "ND9NpNCxQv4S",
        "colab": {
          "base_uri": "https://localhost:8080/",
          "height": 311
        },
        "outputId": "2da788d8-eabe-40f9-f6fa-6f7d2a334650"
      },
      "outputs": [
        {
          "output_type": "error",
          "ename": "OSError",
          "evalue": "ignored",
          "traceback": [
            "\u001b[0;31m---------------------------------------------------------------------------\u001b[0m",
            "\u001b[0;31mOSError\u001b[0m                                   Traceback (most recent call last)",
            "\u001b[0;32m<ipython-input-10-556f2d9f5315>\u001b[0m in \u001b[0;36m<module>\u001b[0;34m()\u001b[0m\n\u001b[0;32m----> 1\u001b[0;31m \u001b[0mZ\u001b[0m \u001b[0;34m=\u001b[0m \u001b[0mnp\u001b[0m\u001b[0;34m.\u001b[0m\u001b[0mgenfromtxt\u001b[0m\u001b[0;34m(\u001b[0m\u001b[0;34m\"missing.dat\"\u001b[0m\u001b[0;34m,\u001b[0m \u001b[0mdelimiter\u001b[0m\u001b[0;34m=\u001b[0m\u001b[0;34m\",\"\u001b[0m\u001b[0;34m)\u001b[0m\u001b[0;34m\u001b[0m\u001b[0;34m\u001b[0m\u001b[0m\n\u001b[0m",
            "\u001b[0;32m/usr/local/lib/python3.7/dist-packages/numpy/lib/npyio.py\u001b[0m in \u001b[0;36mgenfromtxt\u001b[0;34m(fname, dtype, comments, delimiter, skip_header, skip_footer, converters, missing_values, filling_values, usecols, names, excludelist, deletechars, replace_space, autostrip, case_sensitive, defaultfmt, unpack, usemask, loose, invalid_raise, max_rows, encoding, like)\u001b[0m\n\u001b[1;32m   1791\u001b[0m             \u001b[0mfname\u001b[0m \u001b[0;34m=\u001b[0m \u001b[0mos_fspath\u001b[0m\u001b[0;34m(\u001b[0m\u001b[0mfname\u001b[0m\u001b[0;34m)\u001b[0m\u001b[0;34m\u001b[0m\u001b[0;34m\u001b[0m\u001b[0m\n\u001b[1;32m   1792\u001b[0m         \u001b[0;32mif\u001b[0m \u001b[0misinstance\u001b[0m\u001b[0;34m(\u001b[0m\u001b[0mfname\u001b[0m\u001b[0;34m,\u001b[0m \u001b[0mstr\u001b[0m\u001b[0;34m)\u001b[0m\u001b[0;34m:\u001b[0m\u001b[0;34m\u001b[0m\u001b[0;34m\u001b[0m\u001b[0m\n\u001b[0;32m-> 1793\u001b[0;31m             \u001b[0mfid\u001b[0m \u001b[0;34m=\u001b[0m \u001b[0mnp\u001b[0m\u001b[0;34m.\u001b[0m\u001b[0mlib\u001b[0m\u001b[0;34m.\u001b[0m\u001b[0m_datasource\u001b[0m\u001b[0;34m.\u001b[0m\u001b[0mopen\u001b[0m\u001b[0;34m(\u001b[0m\u001b[0mfname\u001b[0m\u001b[0;34m,\u001b[0m \u001b[0;34m'rt'\u001b[0m\u001b[0;34m,\u001b[0m \u001b[0mencoding\u001b[0m\u001b[0;34m=\u001b[0m\u001b[0mencoding\u001b[0m\u001b[0;34m)\u001b[0m\u001b[0;34m\u001b[0m\u001b[0;34m\u001b[0m\u001b[0m\n\u001b[0m\u001b[1;32m   1794\u001b[0m             \u001b[0mfid_ctx\u001b[0m \u001b[0;34m=\u001b[0m \u001b[0mcontextlib\u001b[0m\u001b[0;34m.\u001b[0m\u001b[0mclosing\u001b[0m\u001b[0;34m(\u001b[0m\u001b[0mfid\u001b[0m\u001b[0;34m)\u001b[0m\u001b[0;34m\u001b[0m\u001b[0;34m\u001b[0m\u001b[0m\n\u001b[1;32m   1795\u001b[0m         \u001b[0;32melse\u001b[0m\u001b[0;34m:\u001b[0m\u001b[0;34m\u001b[0m\u001b[0;34m\u001b[0m\u001b[0m\n",
            "\u001b[0;32m/usr/local/lib/python3.7/dist-packages/numpy/lib/_datasource.py\u001b[0m in \u001b[0;36mopen\u001b[0;34m(path, mode, destpath, encoding, newline)\u001b[0m\n\u001b[1;32m    191\u001b[0m \u001b[0;34m\u001b[0m\u001b[0m\n\u001b[1;32m    192\u001b[0m     \u001b[0mds\u001b[0m \u001b[0;34m=\u001b[0m \u001b[0mDataSource\u001b[0m\u001b[0;34m(\u001b[0m\u001b[0mdestpath\u001b[0m\u001b[0;34m)\u001b[0m\u001b[0;34m\u001b[0m\u001b[0;34m\u001b[0m\u001b[0m\n\u001b[0;32m--> 193\u001b[0;31m     \u001b[0;32mreturn\u001b[0m \u001b[0mds\u001b[0m\u001b[0;34m.\u001b[0m\u001b[0mopen\u001b[0m\u001b[0;34m(\u001b[0m\u001b[0mpath\u001b[0m\u001b[0;34m,\u001b[0m \u001b[0mmode\u001b[0m\u001b[0;34m,\u001b[0m \u001b[0mencoding\u001b[0m\u001b[0;34m=\u001b[0m\u001b[0mencoding\u001b[0m\u001b[0;34m,\u001b[0m \u001b[0mnewline\u001b[0m\u001b[0;34m=\u001b[0m\u001b[0mnewline\u001b[0m\u001b[0;34m)\u001b[0m\u001b[0;34m\u001b[0m\u001b[0;34m\u001b[0m\u001b[0m\n\u001b[0m\u001b[1;32m    194\u001b[0m \u001b[0;34m\u001b[0m\u001b[0m\n\u001b[1;32m    195\u001b[0m \u001b[0;34m\u001b[0m\u001b[0m\n",
            "\u001b[0;32m/usr/local/lib/python3.7/dist-packages/numpy/lib/_datasource.py\u001b[0m in \u001b[0;36mopen\u001b[0;34m(self, path, mode, encoding, newline)\u001b[0m\n\u001b[1;32m    531\u001b[0m                                       encoding=encoding, newline=newline)\n\u001b[1;32m    532\u001b[0m         \u001b[0;32melse\u001b[0m\u001b[0;34m:\u001b[0m\u001b[0;34m\u001b[0m\u001b[0;34m\u001b[0m\u001b[0m\n\u001b[0;32m--> 533\u001b[0;31m             \u001b[0;32mraise\u001b[0m \u001b[0mIOError\u001b[0m\u001b[0;34m(\u001b[0m\u001b[0;34m\"%s not found.\"\u001b[0m \u001b[0;34m%\u001b[0m \u001b[0mpath\u001b[0m\u001b[0;34m)\u001b[0m\u001b[0;34m\u001b[0m\u001b[0;34m\u001b[0m\u001b[0m\n\u001b[0m\u001b[1;32m    534\u001b[0m \u001b[0;34m\u001b[0m\u001b[0m\n\u001b[1;32m    535\u001b[0m \u001b[0;34m\u001b[0m\u001b[0m\n",
            "\u001b[0;31mOSError\u001b[0m: missing.dat not found."
          ]
        }
      ],
      "source": [
        "Z = np.genfromtxt(\"missing.dat\", delimiter=\",\")"
      ]
    },
    {
      "cell_type": "markdown",
      "metadata": {
        "id": "sfP7O6RmQv4S"
      },
      "source": [
        "#### 55. What is the equivalent of enumerate for numpy arrays? (★★☆) \n",
        "(**hint**: np.ndenumerate, np.ndindex)"
      ]
    },
    {
      "cell_type": "code",
      "execution_count": 4,
      "metadata": {
        "id": "u1s1AVB3Qv4T",
        "colab": {
          "base_uri": "https://localhost:8080/"
        },
        "outputId": "a3cadc86-452a-4e98-8269-72f1fa26cd38"
      },
      "outputs": [
        {
          "output_type": "stream",
          "name": "stdout",
          "text": [
            "(0, 0) 0\n",
            "(0, 1) 1\n",
            "(0, 2) 2\n",
            "(1, 0) 3\n",
            "(1, 1) 4\n",
            "(1, 2) 5\n",
            "(2, 0) 6\n",
            "(2, 1) 7\n",
            "(2, 2) 8\n",
            "(0, 0) 0\n",
            "(0, 1) 1\n",
            "(0, 2) 2\n",
            "(1, 0) 3\n",
            "(1, 1) 4\n",
            "(1, 2) 5\n",
            "(2, 0) 6\n",
            "(2, 1) 7\n",
            "(2, 2) 8\n"
          ]
        }
      ],
      "source": [
        "Z = np.arange(9).reshape(3,3)\n",
        "for index, value in np.ndenumerate(Z):\n",
        "    print(index, value)\n",
        "for index in np.ndindex(Z.shape):\n",
        "    print(index, Z[index])"
      ]
    },
    {
      "cell_type": "markdown",
      "metadata": {
        "id": "lbtXIbRdQv4T"
      },
      "source": [
        "#### 56. Generate a generic 2D Gaussian-like array (★★☆) \n",
        "(**hint**: np.meshgrid, np.exp)"
      ]
    },
    {
      "cell_type": "code",
      "execution_count": null,
      "metadata": {
        "id": "a6SgIn4_Qv4U"
      },
      "outputs": [],
      "source": [
        ""
      ]
    },
    {
      "cell_type": "markdown",
      "metadata": {
        "id": "bJBZ5GwVQv4U"
      },
      "source": [
        "#### 57. How to randomly place p elements in a 2D array? (★★☆) \n",
        "(**hint**: np.put, np.random.choice)"
      ]
    },
    {
      "cell_type": "code",
      "execution_count": 5,
      "metadata": {
        "id": "CKecQg0FQv4U",
        "colab": {
          "base_uri": "https://localhost:8080/"
        },
        "outputId": "12fd1e5d-b1b9-48ee-bf17-69fd29d3e045"
      },
      "outputs": [
        {
          "output_type": "stream",
          "name": "stdout",
          "text": [
            "[[0. 0. 0. 0. 0. 0. 0. 1. 0. 0.]\n",
            " [0. 0. 0. 0. 0. 0. 0. 0. 0. 0.]\n",
            " [0. 0. 0. 0. 0. 0. 0. 0. 0. 0.]\n",
            " [0. 0. 0. 0. 0. 0. 0. 0. 0. 0.]\n",
            " [1. 0. 0. 0. 0. 0. 0. 0. 0. 0.]\n",
            " [0. 0. 0. 0. 0. 0. 0. 0. 0. 1.]\n",
            " [0. 0. 0. 0. 0. 0. 0. 0. 0. 0.]\n",
            " [0. 0. 0. 0. 0. 0. 0. 0. 0. 0.]\n",
            " [0. 0. 0. 0. 0. 0. 0. 0. 0. 0.]\n",
            " [0. 0. 0. 0. 0. 0. 0. 0. 0. 0.]]\n"
          ]
        }
      ],
      "source": [
        "n = 10\n",
        "p = 3\n",
        "Z = np.zeros((n,n))\n",
        "np.put(Z, np.random.choice(range(n*n), p, replace=False),1)\n",
        "print (Z)"
      ]
    },
    {
      "cell_type": "markdown",
      "metadata": {
        "id": "5m99uJB_Qv4V"
      },
      "source": [
        "#### 58. Subtract the mean of each row of a matrix (★★☆) \n",
        "(**hint**: mean(axis=,keepdims=))"
      ]
    },
    {
      "cell_type": "code",
      "execution_count": 6,
      "metadata": {
        "id": "enhiZZ_OQv4V",
        "colab": {
          "base_uri": "https://localhost:8080/"
        },
        "outputId": "ec6eedd3-b766-4470-87fb-916da6ee2264"
      },
      "outputs": [
        {
          "output_type": "execute_result",
          "data": {
            "text/plain": [
              "array([[ 0.38332147, -0.35676413,  0.4787632 , -0.42195758, -0.23973282,\n",
              "        -0.23583467,  0.12843645, -0.12454219,  0.44707149, -0.05876122],\n",
              "       [ 0.22892294, -0.36343396,  0.34034445,  0.3505574 , -0.26932522,\n",
              "        -0.02597898,  0.00924703, -0.12365175,  0.24245916, -0.38914107],\n",
              "       [-0.4597609 ,  0.35350697,  0.14358299, -0.21001088, -0.20360259,\n",
              "         0.38682261,  0.29905007,  0.02248546, -0.2950179 , -0.03705584],\n",
              "       [ 0.33645496, -0.16472476,  0.19118539, -0.31229054, -0.15509176,\n",
              "         0.27640001, -0.4778627 ,  0.21384733,  0.10079973, -0.00871766],\n",
              "       [-0.25121681, -0.3692466 , -0.07304304,  0.13676119,  0.47690837,\n",
              "         0.00766737, -0.23555198, -0.21744142,  0.29693687,  0.22822604]])"
            ]
          },
          "metadata": {},
          "execution_count": 6
        }
      ],
      "source": [
        "X = np.random.rand(5, 10)\n",
        "\n",
        "# Recent versions of numpy\n",
        "Y = X - X.mean(axis=1, keepdims=True)\n",
        "\n",
        "# Older versions of numpy\n",
        "Y = X - X.mean(axis=1).reshape(-1, 1)\n",
        "Y"
      ]
    },
    {
      "cell_type": "markdown",
      "metadata": {
        "id": "Z9pk7YSnQv4W"
      },
      "source": [
        "#### 59. How to sort an array by the nth column? (★★☆) \n",
        "(**hint**: argsort)"
      ]
    },
    {
      "cell_type": "code",
      "execution_count": 7,
      "metadata": {
        "id": "B-Ktohy9Qv4W",
        "colab": {
          "base_uri": "https://localhost:8080/"
        },
        "outputId": "6be7628f-5190-47d8-fc56-fb04ac29d9e8"
      },
      "outputs": [
        {
          "output_type": "stream",
          "name": "stdout",
          "text": [
            "[[0 3 9]\n",
            " [0 6 5]\n",
            " [0 5 4]]\n",
            "[[0 3 9]\n",
            " [0 5 4]\n",
            " [0 6 5]]\n"
          ]
        }
      ],
      "source": [
        "Z = np.random.randint(0,10,(3,3))\n",
        "print(Z)\n",
        "print(Z[Z[:,1].argsort()])"
      ]
    },
    {
      "cell_type": "markdown",
      "metadata": {
        "id": "qtVglcqrQv4W"
      },
      "source": [
        "#### 60. How to tell if a given 2D array has null columns? (★★☆) \n",
        "(**hint**: any, ~)"
      ]
    },
    {
      "cell_type": "code",
      "execution_count": 8,
      "metadata": {
        "id": "JwUWK5cYQv4X",
        "colab": {
          "base_uri": "https://localhost:8080/"
        },
        "outputId": "8a4e3cec-b8d3-4ec2-d0b4-0741bc1b4a4a"
      },
      "outputs": [
        {
          "output_type": "stream",
          "name": "stdout",
          "text": [
            "False\n"
          ]
        }
      ],
      "source": [
        "Z = np.random.randint(0,3,(3,10))\n",
        "print((~Z.any(axis=0)).any())"
      ]
    },
    {
      "cell_type": "markdown",
      "metadata": {
        "id": "kpmwUK0wQv4X"
      },
      "source": [
        "#### 61. Find the nearest value from a given value in an array (★★☆) \n",
        "(**hint**: np.abs, argmin, flat)"
      ]
    },
    {
      "cell_type": "code",
      "execution_count": 9,
      "metadata": {
        "id": "DTgM27LSQv4Y",
        "colab": {
          "base_uri": "https://localhost:8080/"
        },
        "outputId": "cb7c4898-a0d1-422b-a527-1a6e083445fc"
      },
      "outputs": [
        {
          "output_type": "stream",
          "name": "stdout",
          "text": [
            "0.5556482835184473\n"
          ]
        }
      ],
      "source": [
        "Z = np.random.uniform(0,1,10)\n",
        "z = 0.5\n",
        "m = Z.flat[np.abs(Z - z).argmin()]\n",
        "print(m)"
      ]
    },
    {
      "cell_type": "markdown",
      "metadata": {
        "id": "XKwel1bGQv4Y"
      },
      "source": [
        "#### 62. Considering two arrays with shape (1,3) and (3,1), how to compute their sum using an iterator? (★★☆) \n",
        "(**hint**: np.nditer)"
      ]
    },
    {
      "cell_type": "code",
      "execution_count": 10,
      "metadata": {
        "id": "OAMXL5P_Qv4Y",
        "colab": {
          "base_uri": "https://localhost:8080/"
        },
        "outputId": "4fae62bc-3b97-4202-b09e-72d0aef370f6"
      },
      "outputs": [
        {
          "output_type": "stream",
          "name": "stdout",
          "text": [
            "[[0 1 2]\n",
            " [1 2 3]\n",
            " [2 3 4]]\n"
          ]
        }
      ],
      "source": [
        "A = np.arange(3).reshape(3,1)\n",
        "B = np.arange(3).reshape(1,3)\n",
        "it = np.nditer([A,B,None])\n",
        "for x,y,z in it: z[...] = x + y\n",
        "print(it.operands[2])"
      ]
    },
    {
      "cell_type": "markdown",
      "metadata": {
        "id": "PWBmN3lmQv4Z"
      },
      "source": [
        "#### 63. Create an array class that has a name attribute (★★☆) \n",
        "(**hint**: class method)"
      ]
    },
    {
      "cell_type": "code",
      "execution_count": 11,
      "metadata": {
        "id": "4Ei36F5vQv4Z",
        "colab": {
          "base_uri": "https://localhost:8080/"
        },
        "outputId": "6f0bfbc4-bddb-4322-e58a-d9da4e6a4177"
      },
      "outputs": [
        {
          "output_type": "stream",
          "name": "stdout",
          "text": [
            "range_10\n"
          ]
        }
      ],
      "source": [
        "class NamedArray(np.ndarray):\n",
        "    def __new__(cls, array, name=\"no name\"):\n",
        "        obj = np.asarray(array).view(cls)\n",
        "        obj.name = name\n",
        "        return obj\n",
        "    def __array_finalize__(self, obj):\n",
        "        if obj is None: return\n",
        "        self.info = getattr(obj, 'name', \"no name\")\n",
        "\n",
        "Z = NamedArray(np.arange(10), \"range_10\")\n",
        "print (Z.name)"
      ]
    },
    {
      "cell_type": "markdown",
      "metadata": {
        "id": "7obWrS2NQv4a"
      },
      "source": [
        "#### 64. Consider a given vector, how to add 1 to each element indexed by a second vector (be careful with repeated indices)? (★★★) \n",
        "(**hint**: np.bincount | np.add.at)"
      ]
    },
    {
      "cell_type": "code",
      "execution_count": 12,
      "metadata": {
        "id": "9-PKiu33Qv4a",
        "colab": {
          "base_uri": "https://localhost:8080/"
        },
        "outputId": "7a6d3cc2-3958-4589-c7b0-af30e3550845"
      },
      "outputs": [
        {
          "output_type": "stream",
          "name": "stdout",
          "text": [
            "[1. 3. 3. 6. 1. 4. 3. 4. 3. 2.]\n",
            "[ 1.  5.  5. 11.  1.  7.  5.  7.  5.  3.]\n"
          ]
        }
      ],
      "source": [
        "Z = np.ones(10)\n",
        "I = np.random.randint(0,len(Z),20)\n",
        "Z += np.bincount(I, minlength=len(Z))\n",
        "print(Z)\n",
        "\n",
        "# Another solution\n",
        "\n",
        "np.add.at(Z, I, 1)\n",
        "print(Z)"
      ]
    },
    {
      "cell_type": "markdown",
      "metadata": {
        "id": "lwgDi-KkQv4a"
      },
      "source": [
        "#### 65. How to accumulate elements of a vector (X) to an array (F) based on an index list (I)? (★★★) \n",
        "(**hint**: np.bincount)"
      ]
    },
    {
      "cell_type": "code",
      "execution_count": 13,
      "metadata": {
        "id": "1zFeknZJQv4b",
        "colab": {
          "base_uri": "https://localhost:8080/"
        },
        "outputId": "a4ec3142-d157-496e-aff0-e23b09bd75ec"
      },
      "outputs": [
        {
          "output_type": "stream",
          "name": "stdout",
          "text": [
            "[0. 7. 0. 6. 5. 0. 0. 0. 0. 3.]\n"
          ]
        }
      ],
      "source": [
        "X = [1,2,3,4,5,6]\n",
        "I = [1,3,9,3,4,1]\n",
        "F = np.bincount(I,X)\n",
        "print(F)"
      ]
    },
    {
      "cell_type": "markdown",
      "metadata": {
        "id": "x-91jBRsQv4c"
      },
      "source": [
        "#### 66. Considering a (w,h,3) image of (dtype=ubyte), compute the number of unique colors (★★★) \n",
        "(**hint**: np.unique)"
      ]
    },
    {
      "cell_type": "code",
      "execution_count": 14,
      "metadata": {
        "id": "PmJyslbVQv4c",
        "colab": {
          "base_uri": "https://localhost:8080/"
        },
        "outputId": "1147cadc-75ac-4887-c2ac-f340a4206ddb"
      },
      "outputs": [
        {
          "output_type": "stream",
          "name": "stdout",
          "text": [
            "64\n"
          ]
        }
      ],
      "source": [
        "w, h = 256, 256\n",
        "I = np.random.randint(0, 4, (h, w, 3)).astype(np.ubyte)\n",
        "colors = np.unique(I.reshape(-1, 3), axis=0)\n",
        "n = len(colors)\n",
        "print(n)\n",
        "\n"
      ]
    },
    {
      "cell_type": "markdown",
      "metadata": {
        "id": "mw2k5rkIQv4d"
      },
      "source": [
        "#### 67. Considering a four dimensions array, how to get sum over the last two axis at once? (★★★) \n",
        "(**hint**: sum(axis=(-2,-1)))"
      ]
    },
    {
      "cell_type": "code",
      "execution_count": 16,
      "metadata": {
        "id": "S_pqOtT-Qv4e",
        "colab": {
          "base_uri": "https://localhost:8080/"
        },
        "outputId": "3d4e4dc1-3505-4d97-89a4-77c7c6faa89e"
      },
      "outputs": [
        {
          "output_type": "stream",
          "name": "stdout",
          "text": [
            "[[[[0 0 5 4]\n",
            "   [7 3 7 3]\n",
            "   [6 4 2 4]]\n",
            "\n",
            "  [[4 5 0 8]\n",
            "   [1 2 9 9]\n",
            "   [3 2 5 3]]\n",
            "\n",
            "  [[6 4 9 6]\n",
            "   [0 7 9 0]\n",
            "   [8 1 5 5]]\n",
            "\n",
            "  [[3 2 8 6]\n",
            "   [6 8 6 9]\n",
            "   [7 1 1 4]]]\n",
            "\n",
            "\n",
            " [[[0 4 7 5]\n",
            "   [6 1 8 7]\n",
            "   [8 9 7 3]]\n",
            "\n",
            "  [[3 1 3 8]\n",
            "   [8 6 5 6]\n",
            "   [3 4 5 0]]\n",
            "\n",
            "  [[1 4 7 9]\n",
            "   [1 7 6 7]\n",
            "   [3 0 3 2]]\n",
            "\n",
            "  [[3 2 1 3]\n",
            "   [6 2 5 4]\n",
            "   [7 3 0 0]]]\n",
            "\n",
            "\n",
            " [[[4 8 2 4]\n",
            "   [5 1 0 0]\n",
            "   [9 9 8 9]]\n",
            "\n",
            "  [[9 2 4 8]\n",
            "   [6 8 4 5]\n",
            "   [9 5 5 2]]\n",
            "\n",
            "  [[6 5 2 3]\n",
            "   [6 4 1 1]\n",
            "   [3 3 4 8]]\n",
            "\n",
            "  [[5 7 4 0]\n",
            "   [2 7 0 4]\n",
            "   [3 9 3 1]]]]\n",
            "[[45 51 60 61]\n",
            " [65 52 50 36]\n",
            " [59 67 46 45]]\n",
            "[[45 51 60 61]\n",
            " [65 52 50 36]\n",
            " [59 67 46 45]]\n"
          ]
        }
      ],
      "source": [
        "A = np.random.randint(0,10,(3,4,3,4))\n",
        "print(A)\n",
        "# solution by passing a tuple of axes (introduced in numpy 1.7.0)\n",
        "sum = A.sum(axis=(-2,-1))\n",
        "print(sum)\n",
        "# solution by flattening the last two dimensions into one\n",
        "# (useful for functions that don't accept tuples for axis argument)\n",
        "sum = A.reshape(A.shape[:-2] + (-1,)).sum(axis=-1)\n",
        "print(sum)"
      ]
    },
    {
      "cell_type": "markdown",
      "metadata": {
        "id": "6pRQBWogQv4f"
      },
      "source": [
        "#### 68. Considering a one-dimensional vector D, how to compute means of subsets of D using a vector S of same size describing subset  indices? (★★★) \n",
        "(**hint**: np.bincount)"
      ]
    },
    {
      "cell_type": "code",
      "execution_count": 17,
      "metadata": {
        "id": "fvdHFGjSQv4g",
        "colab": {
          "base_uri": "https://localhost:8080/"
        },
        "outputId": "483572fe-5d43-4efe-c54c-d399b368b8cf"
      },
      "outputs": [
        {
          "output_type": "stream",
          "name": "stdout",
          "text": [
            "[0.57303139 0.53333827 0.46011663 0.57657429 0.55643554 0.64182141\n",
            " 0.54387252 0.47821259 0.64559787 0.51537106]\n"
          ]
        }
      ],
      "source": [
        "D = np.random.uniform(0,1,100)\n",
        "S = np.random.randint(0,10,100)\n",
        "D_sums = np.bincount(S, weights=D)\n",
        "D_counts = np.bincount(S)\n",
        "D_means = D_sums / D_counts\n",
        "print(D_means)"
      ]
    },
    {
      "cell_type": "markdown",
      "metadata": {
        "id": "17reG5zqQv4h"
      },
      "source": [
        "#### 69. How to get the diagonal of a dot product? (★★★) \n",
        "(**hint**: np.diag)"
      ]
    },
    {
      "cell_type": "code",
      "execution_count": 18,
      "metadata": {
        "id": "KsFg083vQv4h",
        "colab": {
          "base_uri": "https://localhost:8080/"
        },
        "outputId": "d072e8e4-9341-4635-ef68-f15a3ddc3385"
      },
      "outputs": [
        {
          "output_type": "execute_result",
          "data": {
            "text/plain": [
              "array([1.08260652, 1.27564496, 0.90150457, 1.4601835 , 2.18302012])"
            ]
          },
          "metadata": {},
          "execution_count": 18
        }
      ],
      "source": [
        "A = np.random.uniform(0,1,(5,5))\n",
        "B = np.random.uniform(0,1,(5,5))\n",
        "\n",
        "# Slow version\n",
        "np.diag(np.dot(A, B))\n",
        "\n",
        "# Fast version\n",
        "np.sum(A * B.T, axis=1)\n",
        "\n",
        "# Faster version\n",
        "np.einsum(\"ij,ji->i\", A, B)"
      ]
    },
    {
      "cell_type": "markdown",
      "metadata": {
        "id": "yXke0v4DQv4h"
      },
      "source": [
        "#### 70. Consider the vector \\[1, 2, 3, 4, 5\\], how to build a new vector with 3 consecutive zeros interleaved between each value? (★★★) \n",
        "(**hint**: array\\[::4\\])"
      ]
    },
    {
      "cell_type": "code",
      "execution_count": 19,
      "metadata": {
        "id": "HPwAJ3CtQv4i",
        "colab": {
          "base_uri": "https://localhost:8080/"
        },
        "outputId": "7c01e846-3152-4935-eea0-3806a5f5e50b"
      },
      "outputs": [
        {
          "output_type": "stream",
          "name": "stdout",
          "text": [
            "[1. 0. 0. 0. 2. 0. 0. 0. 3. 0. 0. 0. 4. 0. 0. 0. 5.]\n"
          ]
        }
      ],
      "source": [
        "Z = np.array([1,2,3,4,5])\n",
        "nz = 3\n",
        "Z0 = np.zeros(len(Z) + (len(Z)-1)*(nz))\n",
        "Z0[::nz+1] = Z\n",
        "print(Z0)"
      ]
    },
    {
      "cell_type": "markdown",
      "metadata": {
        "id": "2bdF0OLRQv4i"
      },
      "source": [
        "#### 71. Consider an array of dimension (5,5,3), how to mulitply it by an array with dimensions (5,5)? (★★★) \n",
        "(**hint**: array\\[:, :, None\\])"
      ]
    },
    {
      "cell_type": "code",
      "execution_count": 20,
      "metadata": {
        "collapsed": true,
        "id": "XNJMkMaSQv4j",
        "colab": {
          "base_uri": "https://localhost:8080/"
        },
        "outputId": "16f6968f-3edb-4a3e-d9d3-814600db5d2c"
      },
      "outputs": [
        {
          "output_type": "stream",
          "name": "stdout",
          "text": [
            "[[[2. 2. 2.]\n",
            "  [2. 2. 2.]\n",
            "  [2. 2. 2.]\n",
            "  [2. 2. 2.]\n",
            "  [2. 2. 2.]]\n",
            "\n",
            " [[2. 2. 2.]\n",
            "  [2. 2. 2.]\n",
            "  [2. 2. 2.]\n",
            "  [2. 2. 2.]\n",
            "  [2. 2. 2.]]\n",
            "\n",
            " [[2. 2. 2.]\n",
            "  [2. 2. 2.]\n",
            "  [2. 2. 2.]\n",
            "  [2. 2. 2.]\n",
            "  [2. 2. 2.]]\n",
            "\n",
            " [[2. 2. 2.]\n",
            "  [2. 2. 2.]\n",
            "  [2. 2. 2.]\n",
            "  [2. 2. 2.]\n",
            "  [2. 2. 2.]]\n",
            "\n",
            " [[2. 2. 2.]\n",
            "  [2. 2. 2.]\n",
            "  [2. 2. 2.]\n",
            "  [2. 2. 2.]\n",
            "  [2. 2. 2.]]]\n"
          ]
        }
      ],
      "source": [
        "A = np.ones((5,5,3))\n",
        "B = 2*np.ones((5,5))\n",
        "print(A * B[:,:,None])"
      ]
    },
    {
      "cell_type": "markdown",
      "metadata": {
        "id": "zAL8QEgUQv4j"
      },
      "source": [
        "#### 72. How to swap two rows of an array? (★★★) \n",
        "(**hint**: array\\[\\[\\]\\] = array\\[\\[\\]\\])"
      ]
    },
    {
      "cell_type": "code",
      "execution_count": null,
      "metadata": {
        "id": "-285tQRCQv4k"
      },
      "outputs": [],
      "source": [
        "A = np.arange(25).reshape(5,5)\n",
        "A[[0,1]] = A[[1,0]]\n",
        "print(A)"
      ]
    },
    {
      "cell_type": "markdown",
      "metadata": {
        "id": "3JWW2gd1Qv4l"
      },
      "source": [
        "#### 73. Consider a set of 10 triplets describing 10 triangles (with shared vertices), find the set of unique line segments composing all the  triangles (★★★) \n",
        "(**hint**: repeat, np.roll, np.sort, view, np.unique)"
      ]
    },
    {
      "cell_type": "code",
      "execution_count": 21,
      "metadata": {
        "id": "poHxKk5yQv4l",
        "colab": {
          "base_uri": "https://localhost:8080/"
        },
        "outputId": "b2378c65-1d3e-4a8b-f4e9-c69306c49e77"
      },
      "outputs": [
        {
          "output_type": "stream",
          "name": "stdout",
          "text": [
            "[( 2, 72) ( 2, 81) ( 8, 58) ( 8, 72) (10, 66) (10, 80) (15, 42) (15, 43)\n",
            " (15, 86) (15, 99) (27, 69) (27, 75) (37, 87) (37, 95) (42, 99) (43, 86)\n",
            " (47, 89) (47, 90) (51, 85) (51, 92) (58, 72) (63, 82) (63, 88) (66, 80)\n",
            " (69, 75) (72, 81) (82, 88) (85, 92) (87, 95) (89, 90)]\n"
          ]
        }
      ],
      "source": [
        "faces = np.random.randint(0,100,(10,3))\n",
        "F = np.roll(faces.repeat(2,axis=1),-1,axis=1)\n",
        "F = F.reshape(len(F)*3,2)\n",
        "F = np.sort(F,axis=1)\n",
        "G = F.view( dtype=[('p0',F.dtype),('p1',F.dtype)] )\n",
        "G = np.unique(G)\n",
        "print(G)"
      ]
    },
    {
      "cell_type": "markdown",
      "metadata": {
        "id": "_lF-oT__Qv4l"
      },
      "source": [
        "#### 74. Given an array C that is a bincount, how to produce an array A such that np.bincount(A) == C? (★★★) \n",
        "(**hint**: np.repeat)"
      ]
    },
    {
      "cell_type": "code",
      "execution_count": 22,
      "metadata": {
        "id": "wdGIKEA8Qv4m",
        "colab": {
          "base_uri": "https://localhost:8080/"
        },
        "outputId": "f3e95398-48a4-47ae-ea97-dbf8fa2f0bed"
      },
      "outputs": [
        {
          "output_type": "stream",
          "name": "stdout",
          "text": [
            "[1 1 2 3 4 4 6]\n"
          ]
        }
      ],
      "source": [
        "C = np.bincount([1,1,2,3,4,4,6])\n",
        "A = np.repeat(np.arange(len(C)), C)\n",
        "print(A)"
      ]
    },
    {
      "cell_type": "markdown",
      "metadata": {
        "id": "g1qAg1IzQv4m"
      },
      "source": [
        "#### 75. How to compute averages using a sliding window over an array? (★★★) \n",
        "(**hint**: np.cumsum)"
      ]
    },
    {
      "cell_type": "code",
      "execution_count": 23,
      "metadata": {
        "id": "ZPNi7kW5Qv4n",
        "colab": {
          "base_uri": "https://localhost:8080/"
        },
        "outputId": "509156c2-568d-4865-eea2-f842ef31bec8"
      },
      "outputs": [
        {
          "output_type": "stream",
          "name": "stdout",
          "text": [
            "[ 1.  2.  3.  4.  5.  6.  7.  8.  9. 10. 11. 12. 13. 14. 15. 16. 17. 18.]\n"
          ]
        }
      ],
      "source": [
        "def moving_average(a, n=3) :\n",
        "    ret = np.cumsum(a, dtype=float)\n",
        "    ret[n:] = ret[n:] - ret[:-n]\n",
        "    return ret[n - 1:] / n\n",
        "Z = np.arange(20)\n",
        "print(moving_average(Z, n=3))"
      ]
    },
    {
      "cell_type": "markdown",
      "metadata": {
        "id": "9TYscp-LQv4n"
      },
      "source": [
        "#### 76. Consider a one-dimensional array Z, build a two-dimensional array whose first row is (Z\\[0\\],Z\\[1\\],Z\\[2\\]) and each subsequent row is  shifted by 1 (last row should be (Z\\[-3\\],Z\\[-2\\],Z\\[-1\\]) (★★★) \n",
        "(**hint**: from numpy.lib import stride_tricks)"
      ]
    },
    {
      "cell_type": "code",
      "execution_count": 24,
      "metadata": {
        "id": "sd8rHJiSQv4o",
        "colab": {
          "base_uri": "https://localhost:8080/"
        },
        "outputId": "45e49d1e-5e1d-4c3c-a55c-3288b1a6b37f"
      },
      "outputs": [
        {
          "output_type": "stream",
          "name": "stdout",
          "text": [
            "[[0 1 2]\n",
            " [1 2 3]\n",
            " [2 3 4]\n",
            " [3 4 5]\n",
            " [4 5 6]\n",
            " [5 6 7]\n",
            " [6 7 8]\n",
            " [7 8 9]]\n"
          ]
        }
      ],
      "source": [
        "from numpy.lib import stride_tricks\n",
        "\n",
        "def rolling(a, window):\n",
        "    shape = (a.size - window + 1, window)\n",
        "    strides = (a.strides[0], a.strides[0])\n",
        "    return stride_tricks.as_strided(a, shape=shape, strides=strides)\n",
        "Z = rolling(np.arange(10), 3)\n",
        "print(Z)"
      ]
    },
    {
      "cell_type": "markdown",
      "metadata": {
        "id": "v0GUr0YUQv4o"
      },
      "source": [
        "#### 77. How to negate a boolean, or to change the sign of a float inplace? (★★★) \n",
        "(**hint**: np.logical_not, np.negative)"
      ]
    },
    {
      "cell_type": "code",
      "execution_count": 25,
      "metadata": {
        "id": "VcHXjggTQv4o",
        "colab": {
          "base_uri": "https://localhost:8080/"
        },
        "outputId": "106d422b-d712-447c-fa77-9a5606c41eb6"
      },
      "outputs": [
        {
          "output_type": "execute_result",
          "data": {
            "text/plain": [
              "array([-0.83722664,  0.16018803, -0.1337759 , -0.1694134 ,  0.40240744,\n",
              "        0.02232355,  0.04030517, -0.54962175, -0.3144197 ,  0.05353106,\n",
              "        0.5139533 , -0.41535279,  0.55394289,  0.63248041, -0.17806686,\n",
              "       -0.62936942,  0.17423656,  0.26771598, -0.82153181,  0.38533448,\n",
              "        0.02623887, -0.86611646, -0.34003399,  0.42267911, -0.50593375,\n",
              "        0.51601995, -0.21137433,  0.2235712 ,  0.03125638,  0.18431572,\n",
              "       -0.54128412, -0.57599987, -0.17429665,  0.50531069,  0.16389955,\n",
              "       -0.60475701, -0.20386453,  0.45701226,  0.95079058,  0.99727629,\n",
              "        0.56446076,  0.64216955, -0.96036024, -0.56253413, -0.1910861 ,\n",
              "       -0.27292385, -0.69182958,  0.26895329,  0.61872755,  0.35564746,\n",
              "       -0.89016268, -0.33959929,  0.14151836,  0.59648665,  0.96038366,\n",
              "        0.61659637, -0.13191366, -0.84021012, -0.82170357, -0.71145694,\n",
              "        0.52639154,  0.23950549,  0.82608091,  0.30095671, -0.20344413,\n",
              "        0.49123034,  0.76101446,  0.83691501,  0.52940092,  0.91314419,\n",
              "        0.19745946,  0.46654181, -0.13278553, -0.05176805, -0.97796976,\n",
              "        0.8578419 , -0.52259807,  0.97322074,  0.30893682,  0.92431073,\n",
              "       -0.44607884, -0.07649894, -0.59627988,  0.69412788, -0.22148875,\n",
              "       -0.37437193, -0.46485187, -0.3702165 , -0.481393  ,  0.01685163,\n",
              "       -0.93931884, -0.13479333,  0.70442419,  0.02164192,  0.0483511 ,\n",
              "        0.430657  ,  0.76293602,  0.1102264 ,  0.67650697,  0.80203324])"
            ]
          },
          "metadata": {},
          "execution_count": 25
        }
      ],
      "source": [
        "Z = np.random.randint(0,2,100)\n",
        "np.logical_not(Z, out=Z)\n",
        "\n",
        "Z = np.random.uniform(-1.0,1.0,100)\n",
        "np.negative(Z, out=Z)"
      ]
    },
    {
      "cell_type": "markdown",
      "metadata": {
        "id": "leH35w6rQv4p"
      },
      "source": [
        "#### 78. Consider 2 sets of points P0,P1 describing lines (2d) and a point p, how to compute distance from p to each line i  (P0\\[i\\],P1\\[i\\])? (★★★)"
      ]
    },
    {
      "cell_type": "code",
      "execution_count": 26,
      "metadata": {
        "id": "mVgJK87EQv4p",
        "colab": {
          "base_uri": "https://localhost:8080/"
        },
        "outputId": "295b9872-df89-4786-e55b-7b25ac757e5f"
      },
      "outputs": [
        {
          "output_type": "stream",
          "name": "stdout",
          "text": [
            "[3.59636398 4.46741828 9.77395879 8.03099188 1.180437   0.60808313\n",
            " 4.4336064  8.41008214 0.33476603 3.6179934 ]\n"
          ]
        }
      ],
      "source": [
        "def distance(P0, P1, p):\n",
        "    T = P1 - P0\n",
        "    L = (T**2).sum(axis=1)\n",
        "    U = -((P0[:,0]-p[...,0])*T[:,0] + (P0[:,1]-p[...,1])*T[:,1]) / L\n",
        "    U = U.reshape(len(U),1)\n",
        "    D = P0 + U*T - p\n",
        "    return np.sqrt((D**2).sum(axis=1))\n",
        "\n",
        "P0 = np.random.uniform(-10,10,(10,2))\n",
        "P1 = np.random.uniform(-10,10,(10,2))\n",
        "p  = np.random.uniform(-10,10,( 1,2))\n",
        "print(distance(P0, P1, p))"
      ]
    },
    {
      "cell_type": "markdown",
      "metadata": {
        "id": "CU6_qEBrQv4q"
      },
      "source": [
        "#### 79. Consider 2 sets of points P0,P1 describing lines (2d) and a set of points P, how to compute distance from each point j (P\\[j\\]) to each line i (P0\\[i\\],P1\\[i\\])? (★★★)"
      ]
    },
    {
      "cell_type": "code",
      "execution_count": 27,
      "metadata": {
        "id": "EpNpRMhAQv4r",
        "colab": {
          "base_uri": "https://localhost:8080/"
        },
        "outputId": "f8ec5ad7-f2da-4829-cd03-c5e6d6cb625a"
      },
      "outputs": [
        {
          "output_type": "stream",
          "name": "stdout",
          "text": [
            "[[ 7.55209508  3.7269786   2.74538365  6.56607269  8.53991624  1.63953531\n",
            "   1.90582461  0.1659059   4.96052545  5.16571395]\n",
            " [ 3.43380262 15.16660576 11.08440446  3.59596774  1.71455838 14.81360048\n",
            "   1.90774446 11.74156407 16.56829736  8.1303355 ]\n",
            " [14.13234603  0.36746054  8.48785246  1.6900817  12.79234502  3.34363489\n",
            "   8.5439523   4.04545113  8.81210023  3.84577685]\n",
            " [ 1.15938105 14.0259766   6.15776768  1.3469094   1.31249595 10.71391572\n",
            "   4.28622276  6.94835006 11.78114985  4.19263411]\n",
            " [ 5.17441173  3.20867164  1.54340199 10.77937106  8.41203537  1.61815112\n",
            "   0.55602447  3.83389974  0.96811642  8.26261423]\n",
            " [ 8.22686524  0.03299576  1.03081572 10.89961271 11.75350736  3.39489459\n",
            "   2.46181244  4.5587895   0.22761816 10.1962103 ]\n",
            " [10.9792519   0.26811042  2.86656556  7.20416279 12.58066219  0.89749662\n",
            "   5.28113456  1.18113307  3.59540579  7.87434326]\n",
            " [13.67427429  5.37127396  0.45496978 10.48188583 17.35335109  5.88422247\n",
            "   7.86375982  5.18231491  0.42306311 12.97112531]\n",
            " [ 4.46473945  4.08393753  1.50716299 10.57932456  7.5362788   1.01960681\n",
            "   1.25320827  3.48298861  1.32284665  7.62914549]\n",
            " [ 2.34896629  8.96003692  5.66746217 13.65072982  1.9965966   0.65290474\n",
            "   8.07581782  5.4043661   0.56738176  6.88237837]]\n"
          ]
        }
      ],
      "source": [
        "P0 = np.random.uniform(-10, 10, (10,2))\n",
        "P1 = np.random.uniform(-10,10,(10,2))\n",
        "p = np.random.uniform(-10, 10, (10,2))\n",
        "print(np.array([distance(P0,P1,p_i) for p_i in p]))"
      ]
    },
    {
      "cell_type": "markdown",
      "metadata": {
        "id": "Rpz1BKRyQv4s"
      },
      "source": [
        "#### 80. Consider an arbitrary array, write a function that extract a subpart with a fixed shape and centered on a given element (pad with a `fill` value when necessary) (★★★) \n",
        "(**hint**: minimum, maximum)"
      ]
    },
    {
      "cell_type": "code",
      "execution_count": 28,
      "metadata": {
        "id": "-T9RJArFQv4t",
        "colab": {
          "base_uri": "https://localhost:8080/"
        },
        "outputId": "6672b2aa-724d-4dd3-dd7b-7c2a11459f66"
      },
      "outputs": [
        {
          "output_type": "stream",
          "name": "stdout",
          "text": [
            "[[0 4 4 4 8 7 8 1 7 3]\n",
            " [4 3 5 3 1 8 1 1 7 2]\n",
            " [1 6 4 2 3 0 8 3 1 9]\n",
            " [2 4 8 0 7 6 4 8 1 7]\n",
            " [6 0 3 0 6 7 1 0 8 1]\n",
            " [6 7 6 9 3 5 0 8 8 3]\n",
            " [4 4 4 2 4 3 4 1 2 3]\n",
            " [5 5 5 7 6 5 3 5 8 4]\n",
            " [3 0 8 0 3 4 0 5 0 3]\n",
            " [4 1 0 3 2 6 0 6 6 1]]\n",
            "[[0 0 0 0 0]\n",
            " [0 0 4 4 4]\n",
            " [0 4 3 5 3]\n",
            " [0 1 6 4 2]\n",
            " [0 2 4 8 0]]\n"
          ]
        },
        {
          "output_type": "stream",
          "name": "stderr",
          "text": [
            "/usr/local/lib/python3.7/dist-packages/ipykernel_launcher.py:23: FutureWarning: Using a non-tuple sequence for multidimensional indexing is deprecated; use `arr[tuple(seq)]` instead of `arr[seq]`. In the future this will be interpreted as an array index, `arr[np.array(seq)]`, which will result either in an error or a different result.\n"
          ]
        }
      ],
      "source": [
        "Z = np.random.randint(0,10,(10,10))\n",
        "shape = (5,5)\n",
        "fill  = 0\n",
        "position = (1,1)\n",
        "\n",
        "R = np.ones(shape, dtype=Z.dtype)*fill\n",
        "P  = np.array(list(position)).astype(int)\n",
        "Rs = np.array(list(R.shape)).astype(int)\n",
        "Zs = np.array(list(Z.shape)).astype(int)\n",
        "\n",
        "R_start = np.zeros((len(shape),)).astype(int)\n",
        "R_stop  = np.array(list(shape)).astype(int)\n",
        "Z_start = (P-Rs//2)\n",
        "Z_stop  = (P+Rs//2)+Rs%2\n",
        "\n",
        "R_start = (R_start - np.minimum(Z_start,0)).tolist()\n",
        "Z_start = (np.maximum(Z_start,0)).tolist()\n",
        "R_stop = np.maximum(R_start, (R_stop - np.maximum(Z_stop-Zs,0))).tolist()\n",
        "Z_stop = (np.minimum(Z_stop,Zs)).tolist()\n",
        "\n",
        "r = [slice(start,stop) for start,stop in zip(R_start,R_stop)]\n",
        "z = [slice(start,stop) for start,stop in zip(Z_start,Z_stop)]\n",
        "R[r] = Z[z]\n",
        "print(Z)\n",
        "print(R)"
      ]
    },
    {
      "cell_type": "markdown",
      "metadata": {
        "id": "_e0HVLMjQv4t"
      },
      "source": [
        "#### 81. Consider an array Z = \\[1,2,3,4,5,6,7,8,9,10,11,12,13,14\\], how to generate an array R = \\[\\[1,2,3,4\\], \\[2,3,4,5\\], \\[3,4,5,6\\], ..., \\[11,12,13,14\\]\\]? (★★★) \n",
        "(**hint**: stride\\_tricks.as\\_strided)"
      ]
    },
    {
      "cell_type": "code",
      "execution_count": 29,
      "metadata": {
        "id": "Wlom_K1DQv4v",
        "colab": {
          "base_uri": "https://localhost:8080/"
        },
        "outputId": "1c5cbd96-6482-4e6c-cee5-f97104b81953"
      },
      "outputs": [
        {
          "output_type": "stream",
          "name": "stdout",
          "text": [
            "[[ 1  2  3  4]\n",
            " [ 2  3  4  5]\n",
            " [ 3  4  5  6]\n",
            " [ 4  5  6  7]\n",
            " [ 5  6  7  8]\n",
            " [ 6  7  8  9]\n",
            " [ 7  8  9 10]\n",
            " [ 8  9 10 11]\n",
            " [ 9 10 11 12]\n",
            " [10 11 12 13]\n",
            " [11 12 13 14]]\n"
          ]
        }
      ],
      "source": [
        "Z = np.arange(1,15,dtype=np.uint32)\n",
        "R = stride_tricks.as_strided(Z,(11,4),(4,4))\n",
        "print(R)"
      ]
    },
    {
      "cell_type": "markdown",
      "metadata": {
        "id": "8AInGY0bQv4w"
      },
      "source": [
        "#### 82. Compute a matrix rank (★★★) \n",
        "(**hint**: np.linalg.svd) (suggestion: np.linalg.svd)"
      ]
    },
    {
      "cell_type": "code",
      "execution_count": 30,
      "metadata": {
        "id": "K-4zFVcjQv4x",
        "colab": {
          "base_uri": "https://localhost:8080/"
        },
        "outputId": "083ee429-3501-4c62-e586-d1a17dd4aeae"
      },
      "outputs": [
        {
          "output_type": "stream",
          "name": "stdout",
          "text": [
            "10\n"
          ]
        }
      ],
      "source": [
        "Z = np.random.uniform(0,1,(10,10))\n",
        "U, S, V = np.linalg.svd(Z) # Singular Value Decomposition\n",
        "rank = np.sum(S > 1e-10)\n",
        "print(rank)"
      ]
    },
    {
      "cell_type": "markdown",
      "metadata": {
        "id": "DZka0bVhQv4x"
      },
      "source": [
        "#### 83. How to find the most frequent value in an array? \n",
        "(**hint**: np.bincount, argmax)"
      ]
    },
    {
      "cell_type": "code",
      "execution_count": 31,
      "metadata": {
        "id": "wxvcs4EfQv4y",
        "colab": {
          "base_uri": "https://localhost:8080/"
        },
        "outputId": "e08cb886-a18f-4310-84d3-db5b1d54bf4e"
      },
      "outputs": [
        {
          "output_type": "stream",
          "name": "stdout",
          "text": [
            "0\n"
          ]
        }
      ],
      "source": [
        "Z = np.random.randint(0,10,50)\n",
        "print(np.bincount(Z).argmax())"
      ]
    },
    {
      "cell_type": "markdown",
      "metadata": {
        "id": "WCssQC2GQv4y"
      },
      "source": [
        "#### 84. Extract all the contiguous 3x3 blocks from a random 10x10 matrix (★★★) \n",
        "(**hint**: stride\\_tricks.as\\_strided)"
      ]
    },
    {
      "cell_type": "code",
      "execution_count": 32,
      "metadata": {
        "id": "6Hu1ODgKQv4y",
        "colab": {
          "base_uri": "https://localhost:8080/"
        },
        "outputId": "4555f41e-e1cd-486c-e88f-4a71bc8c5ccd"
      },
      "outputs": [
        {
          "output_type": "stream",
          "name": "stdout",
          "text": [
            "[[[[0 3 1]\n",
            "   [0 3 3]\n",
            "   [0 3 3]]\n",
            "\n",
            "  [[3 1 4]\n",
            "   [3 3 0]\n",
            "   [3 3 2]]\n",
            "\n",
            "  [[1 4 2]\n",
            "   [3 0 0]\n",
            "   [3 2 3]]\n",
            "\n",
            "  [[4 2 3]\n",
            "   [0 0 0]\n",
            "   [2 3 1]]\n",
            "\n",
            "  [[2 3 4]\n",
            "   [0 0 2]\n",
            "   [3 1 2]]\n",
            "\n",
            "  [[3 4 2]\n",
            "   [0 2 3]\n",
            "   [1 2 0]]\n",
            "\n",
            "  [[4 2 2]\n",
            "   [2 3 0]\n",
            "   [2 0 3]]\n",
            "\n",
            "  [[2 2 1]\n",
            "   [3 0 4]\n",
            "   [0 3 0]]]\n",
            "\n",
            "\n",
            " [[[0 3 3]\n",
            "   [0 3 3]\n",
            "   [4 3 1]]\n",
            "\n",
            "  [[3 3 0]\n",
            "   [3 3 2]\n",
            "   [3 1 4]]\n",
            "\n",
            "  [[3 0 0]\n",
            "   [3 2 3]\n",
            "   [1 4 4]]\n",
            "\n",
            "  [[0 0 0]\n",
            "   [2 3 1]\n",
            "   [4 4 3]]\n",
            "\n",
            "  [[0 0 2]\n",
            "   [3 1 2]\n",
            "   [4 3 1]]\n",
            "\n",
            "  [[0 2 3]\n",
            "   [1 2 0]\n",
            "   [3 1 2]]\n",
            "\n",
            "  [[2 3 0]\n",
            "   [2 0 3]\n",
            "   [1 2 0]]\n",
            "\n",
            "  [[3 0 4]\n",
            "   [0 3 0]\n",
            "   [2 0 3]]]\n",
            "\n",
            "\n",
            " [[[0 3 3]\n",
            "   [4 3 1]\n",
            "   [3 1 1]]\n",
            "\n",
            "  [[3 3 2]\n",
            "   [3 1 4]\n",
            "   [1 1 0]]\n",
            "\n",
            "  [[3 2 3]\n",
            "   [1 4 4]\n",
            "   [1 0 2]]\n",
            "\n",
            "  [[2 3 1]\n",
            "   [4 4 3]\n",
            "   [0 2 0]]\n",
            "\n",
            "  [[3 1 2]\n",
            "   [4 3 1]\n",
            "   [2 0 0]]\n",
            "\n",
            "  [[1 2 0]\n",
            "   [3 1 2]\n",
            "   [0 0 1]]\n",
            "\n",
            "  [[2 0 3]\n",
            "   [1 2 0]\n",
            "   [0 1 4]]\n",
            "\n",
            "  [[0 3 0]\n",
            "   [2 0 3]\n",
            "   [1 4 1]]]\n",
            "\n",
            "\n",
            " [[[4 3 1]\n",
            "   [3 1 1]\n",
            "   [1 1 2]]\n",
            "\n",
            "  [[3 1 4]\n",
            "   [1 1 0]\n",
            "   [1 2 0]]\n",
            "\n",
            "  [[1 4 4]\n",
            "   [1 0 2]\n",
            "   [2 0 2]]\n",
            "\n",
            "  [[4 4 3]\n",
            "   [0 2 0]\n",
            "   [0 2 4]]\n",
            "\n",
            "  [[4 3 1]\n",
            "   [2 0 0]\n",
            "   [2 4 0]]\n",
            "\n",
            "  [[3 1 2]\n",
            "   [0 0 1]\n",
            "   [4 0 2]]\n",
            "\n",
            "  [[1 2 0]\n",
            "   [0 1 4]\n",
            "   [0 2 3]]\n",
            "\n",
            "  [[2 0 3]\n",
            "   [1 4 1]\n",
            "   [2 3 0]]]\n",
            "\n",
            "\n",
            " [[[3 1 1]\n",
            "   [1 1 2]\n",
            "   [2 0 0]]\n",
            "\n",
            "  [[1 1 0]\n",
            "   [1 2 0]\n",
            "   [0 0 3]]\n",
            "\n",
            "  [[1 0 2]\n",
            "   [2 0 2]\n",
            "   [0 3 2]]\n",
            "\n",
            "  [[0 2 0]\n",
            "   [0 2 4]\n",
            "   [3 2 4]]\n",
            "\n",
            "  [[2 0 0]\n",
            "   [2 4 0]\n",
            "   [2 4 2]]\n",
            "\n",
            "  [[0 0 1]\n",
            "   [4 0 2]\n",
            "   [4 2 4]]\n",
            "\n",
            "  [[0 1 4]\n",
            "   [0 2 3]\n",
            "   [2 4 3]]\n",
            "\n",
            "  [[1 4 1]\n",
            "   [2 3 0]\n",
            "   [4 3 2]]]\n",
            "\n",
            "\n",
            " [[[1 1 2]\n",
            "   [2 0 0]\n",
            "   [4 2 1]]\n",
            "\n",
            "  [[1 2 0]\n",
            "   [0 0 3]\n",
            "   [2 1 1]]\n",
            "\n",
            "  [[2 0 2]\n",
            "   [0 3 2]\n",
            "   [1 1 2]]\n",
            "\n",
            "  [[0 2 4]\n",
            "   [3 2 4]\n",
            "   [1 2 1]]\n",
            "\n",
            "  [[2 4 0]\n",
            "   [2 4 2]\n",
            "   [2 1 4]]\n",
            "\n",
            "  [[4 0 2]\n",
            "   [4 2 4]\n",
            "   [1 4 2]]\n",
            "\n",
            "  [[0 2 3]\n",
            "   [2 4 3]\n",
            "   [4 2 0]]\n",
            "\n",
            "  [[2 3 0]\n",
            "   [4 3 2]\n",
            "   [2 0 3]]]\n",
            "\n",
            "\n",
            " [[[2 0 0]\n",
            "   [4 2 1]\n",
            "   [0 3 2]]\n",
            "\n",
            "  [[0 0 3]\n",
            "   [2 1 1]\n",
            "   [3 2 2]]\n",
            "\n",
            "  [[0 3 2]\n",
            "   [1 1 2]\n",
            "   [2 2 1]]\n",
            "\n",
            "  [[3 2 4]\n",
            "   [1 2 1]\n",
            "   [2 1 4]]\n",
            "\n",
            "  [[2 4 2]\n",
            "   [2 1 4]\n",
            "   [1 4 0]]\n",
            "\n",
            "  [[4 2 4]\n",
            "   [1 4 2]\n",
            "   [4 0 3]]\n",
            "\n",
            "  [[2 4 3]\n",
            "   [4 2 0]\n",
            "   [0 3 4]]\n",
            "\n",
            "  [[4 3 2]\n",
            "   [2 0 3]\n",
            "   [3 4 4]]]\n",
            "\n",
            "\n",
            " [[[4 2 1]\n",
            "   [0 3 2]\n",
            "   [3 0 4]]\n",
            "\n",
            "  [[2 1 1]\n",
            "   [3 2 2]\n",
            "   [0 4 1]]\n",
            "\n",
            "  [[1 1 2]\n",
            "   [2 2 1]\n",
            "   [4 1 1]]\n",
            "\n",
            "  [[1 2 1]\n",
            "   [2 1 4]\n",
            "   [1 1 4]]\n",
            "\n",
            "  [[2 1 4]\n",
            "   [1 4 0]\n",
            "   [1 4 3]]\n",
            "\n",
            "  [[1 4 2]\n",
            "   [4 0 3]\n",
            "   [4 3 4]]\n",
            "\n",
            "  [[4 2 0]\n",
            "   [0 3 4]\n",
            "   [3 4 2]]\n",
            "\n",
            "  [[2 0 3]\n",
            "   [3 4 4]\n",
            "   [4 2 0]]]]\n"
          ]
        }
      ],
      "source": [
        "Z = np.random.randint(0,5,(10,10))\n",
        "n = 3\n",
        "i = 1 + (Z.shape[0]-3)\n",
        "j = 1 + (Z.shape[1]-3)\n",
        "C = stride_tricks.as_strided(Z, shape=(i, j, n, n), strides=Z.strides + Z.strides)\n",
        "print(C)"
      ]
    },
    {
      "cell_type": "markdown",
      "metadata": {
        "id": "ArJCM7uWQv4z"
      },
      "source": [
        "#### 85. Create a 2D array subclass such that Z\\[i,j\\] == Z\\[j,i\\] (★★★) \n",
        "(**hint**: class method)"
      ]
    },
    {
      "cell_type": "code",
      "execution_count": 33,
      "metadata": {
        "id": "d589qIIFQv4z",
        "colab": {
          "base_uri": "https://localhost:8080/"
        },
        "outputId": "d6bf9dce-ede8-48c5-f78d-3ed872967ee8"
      },
      "outputs": [
        {
          "output_type": "stream",
          "name": "stdout",
          "text": [
            "[[ 0  4  0  5 17]\n",
            " [ 4  5  6  8  6]\n",
            " [ 0  6  9 42  8]\n",
            " [ 5  8 42  3  4]\n",
            " [17  6  8  4  5]]\n"
          ]
        }
      ],
      "source": [
        "class Symetric(np.ndarray):\n",
        "    def __setitem__(self, index, value):\n",
        "        i,j = index\n",
        "        super(Symetric, self).__setitem__((i,j), value)\n",
        "        super(Symetric, self).__setitem__((j,i), value)\n",
        "\n",
        "def symetric(Z):\n",
        "    return np.asarray(Z + Z.T - np.diag(Z.diagonal())).view(Symetric)\n",
        "\n",
        "S = symetric(np.random.randint(0,10,(5,5)))\n",
        "S[2,3] = 42\n",
        "print(S)"
      ]
    },
    {
      "cell_type": "markdown",
      "metadata": {
        "id": "eaYFlLGYQv40"
      },
      "source": [
        "#### 86. Consider a set of p matrices wich shape (n,n) and a set of p vectors with shape (n,1). How to compute the sum of of the p matrix products at once? (result has shape (n,1)) (★★★) \n",
        "(**hint**: np.tensordot)"
      ]
    },
    {
      "cell_type": "code",
      "execution_count": 34,
      "metadata": {
        "id": "gravHrqAQv40",
        "colab": {
          "base_uri": "https://localhost:8080/"
        },
        "outputId": "0fa1a1c1-e8a8-4f7d-803d-bd6ac3c9807e"
      },
      "outputs": [
        {
          "output_type": "stream",
          "name": "stdout",
          "text": [
            "[[200.]\n",
            " [200.]\n",
            " [200.]\n",
            " [200.]\n",
            " [200.]\n",
            " [200.]\n",
            " [200.]\n",
            " [200.]\n",
            " [200.]\n",
            " [200.]\n",
            " [200.]\n",
            " [200.]\n",
            " [200.]\n",
            " [200.]\n",
            " [200.]\n",
            " [200.]\n",
            " [200.]\n",
            " [200.]\n",
            " [200.]\n",
            " [200.]]\n"
          ]
        }
      ],
      "source": [
        "p, n = 10, 20\n",
        "M = np.ones((p,n,n))\n",
        "V = np.ones((p,n,1))\n",
        "S = np.tensordot(M, V, axes=[[0, 2], [0, 1]])\n",
        "print(S)\n"
      ]
    },
    {
      "cell_type": "markdown",
      "metadata": {
        "id": "DlyLFCXKQv41"
      },
      "source": [
        "#### 87. Consider a 16x16 array, how to get the block-sum (block size is 4x4)? (★★★) \n",
        "(**hint**: np.add.reduceat)"
      ]
    },
    {
      "cell_type": "code",
      "execution_count": 35,
      "metadata": {
        "id": "07ePgcCgQv41",
        "colab": {
          "base_uri": "https://localhost:8080/"
        },
        "outputId": "63c86b39-0d63-49af-f065-cb57eca06b2f"
      },
      "outputs": [
        {
          "output_type": "stream",
          "name": "stdout",
          "text": [
            "[[16. 16. 16. 16.]\n",
            " [16. 16. 16. 16.]\n",
            " [16. 16. 16. 16.]\n",
            " [16. 16. 16. 16.]]\n"
          ]
        }
      ],
      "source": [
        "Z = np.ones((16,16))\n",
        "k = 4\n",
        "S = np.add.reduceat(np.add.reduceat(Z, np.arange(0, Z.shape[0], k), axis=0),\n",
        "                                       np.arange(0, Z.shape[1], k), axis=1)\n",
        "print(S)"
      ]
    },
    {
      "cell_type": "markdown",
      "metadata": {
        "id": "BJpbVhudQv42"
      },
      "source": [
        "#### 88. How to implement the Game of Life using numpy arrays? (★★★)"
      ]
    },
    {
      "cell_type": "code",
      "execution_count": 36,
      "metadata": {
        "id": "qTtETWX1Qv42",
        "colab": {
          "base_uri": "https://localhost:8080/"
        },
        "outputId": "4c73f0d0-fdff-4df7-ac07-6ebabc25af7b"
      },
      "outputs": [
        {
          "output_type": "stream",
          "name": "stdout",
          "text": [
            "[[0 0 0 ... 0 0 0]\n",
            " [0 0 0 ... 0 0 0]\n",
            " [0 0 0 ... 0 0 0]\n",
            " ...\n",
            " [0 0 0 ... 0 0 0]\n",
            " [0 0 0 ... 0 0 0]\n",
            " [0 0 0 ... 0 0 0]]\n"
          ]
        }
      ],
      "source": [
        "def iterate(Z):\n",
        "    # Count neighbours\n",
        "    N = (Z[0:-2,0:-2] + Z[0:-2,1:-1] + Z[0:-2,2:] +\n",
        "         Z[1:-1,0:-2]                + Z[1:-1,2:] +\n",
        "         Z[2:  ,0:-2] + Z[2:  ,1:-1] + Z[2:  ,2:])\n",
        "\n",
        "    # Apply rules\n",
        "    birth = (N==3) & (Z[1:-1,1:-1]==0)\n",
        "    survive = ((N==2) | (N==3)) & (Z[1:-1,1:-1]==1)\n",
        "    Z[...] = 0\n",
        "    Z[1:-1,1:-1][birth | survive] = 1\n",
        "    return Z\n",
        "\n",
        "Z = np.random.randint(0,2,(50,50))\n",
        "for i in range(100): Z = iterate(Z)\n",
        "print(Z)"
      ]
    },
    {
      "cell_type": "markdown",
      "metadata": {
        "id": "bbfgrxvJQv43"
      },
      "source": [
        "#### 89. How to get the n largest values of an array (★★★) \n",
        "(**hint**: np.argsort | np.argpartition)"
      ]
    },
    {
      "cell_type": "code",
      "execution_count": 38,
      "metadata": {
        "id": "bsYQzgadQv43",
        "colab": {
          "base_uri": "https://localhost:8080/"
        },
        "outputId": "bba4e3c6-6e66-4f13-bc37-940f730d569f"
      },
      "outputs": [
        {
          "output_type": "stream",
          "name": "stdout",
          "text": [
            "[9995 9996 9997 9998 9999]\n",
            "[9999 9998 9997 9996 9995]\n"
          ]
        }
      ],
      "source": [
        "Z = np.arange(10000)\n",
        "np.random.shuffle(Z)\n",
        "n = 5\n",
        "\n",
        "# Slow\n",
        "print (Z[np.argsort(Z)[-n:]])\n",
        "\n",
        "# Fast\n",
        "print (Z[np.argpartition(-Z,n)[:n]])"
      ]
    },
    {
      "cell_type": "markdown",
      "metadata": {
        "id": "sXH5m56sQv44"
      },
      "source": [
        "#### 90. Given an arbitrary number of vectors, build the cartesian product (every combinations of every item) (★★★) \n",
        "(**hint**: np.indices)"
      ]
    },
    {
      "cell_type": "code",
      "execution_count": 37,
      "metadata": {
        "scrolled": true,
        "id": "jU1uWSUqQv44",
        "colab": {
          "base_uri": "https://localhost:8080/"
        },
        "outputId": "24f18cdd-3126-4bbf-e2b6-bf24822293a3"
      },
      "outputs": [
        {
          "output_type": "stream",
          "name": "stdout",
          "text": [
            "[[1 4 6]\n",
            " [1 4 7]\n",
            " [1 5 6]\n",
            " [1 5 7]\n",
            " [2 4 6]\n",
            " [2 4 7]\n",
            " [2 5 6]\n",
            " [2 5 7]\n",
            " [3 4 6]\n",
            " [3 4 7]\n",
            " [3 5 6]\n",
            " [3 5 7]]\n"
          ]
        }
      ],
      "source": [
        "def cartesian(arrays):\n",
        "    arrays = [np.asarray(a) for a in arrays]\n",
        "    shape = (len(x) for x in arrays)\n",
        "\n",
        "    ix = np.indices(shape, dtype=int)\n",
        "    ix = ix.reshape(len(arrays), -1).T\n",
        "\n",
        "    for n, arr in enumerate(arrays):\n",
        "        ix[:, n] = arrays[n][ix[:, n]]\n",
        "\n",
        "    return ix\n",
        "\n",
        "print (cartesian(([1, 2, 3], [4, 5], [6, 7])))"
      ]
    },
    {
      "cell_type": "markdown",
      "metadata": {
        "id": "voB_kOI-Qv45"
      },
      "source": [
        "#### 91. How to create a record array from a regular array? (★★★) \n",
        "(**hint**: np.core.records.fromarrays)"
      ]
    },
    {
      "cell_type": "code",
      "execution_count": 39,
      "metadata": {
        "id": "kRRRNQ3TQv45",
        "colab": {
          "base_uri": "https://localhost:8080/"
        },
        "outputId": "fa0cb061-1a2f-4ce9-e137-8b598a788655"
      },
      "outputs": [
        {
          "output_type": "stream",
          "name": "stdout",
          "text": [
            "[(b'Hello', 2.5, 3) (b'World', 3.6, 2)]\n"
          ]
        }
      ],
      "source": [
        "Z = np.array([(\"Hello\", 2.5, 3),\n",
        "              (\"World\", 3.6, 2)])\n",
        "R = np.core.records.fromarrays(Z.T,\n",
        "                               names='col1, col2, col3',\n",
        "                               formats = 'S8, f8, i8')\n",
        "print(R)"
      ]
    },
    {
      "cell_type": "markdown",
      "metadata": {
        "id": "xoDXiEPeQv46"
      },
      "source": [
        "#### 92. Consider a large vector Z, compute Z to the power of 3 using 3 different methods (★★★) \n",
        "(**hint**: np.power, \\*, np.einsum)"
      ]
    },
    {
      "cell_type": "code",
      "execution_count": 40,
      "metadata": {
        "id": "-3CISvfoQv47",
        "colab": {
          "base_uri": "https://localhost:8080/"
        },
        "outputId": "8df85919-0f1d-44a2-edc9-1c72ca6c1b97"
      },
      "outputs": [
        {
          "output_type": "stream",
          "name": "stdout",
          "text": [
            "1 loop, best of 5: 3.72 s per loop\n",
            "10 loops, best of 5: 143 ms per loop\n",
            "10 loops, best of 5: 123 ms per loop\n"
          ]
        }
      ],
      "source": [
        "x = np.random.rand(int(5e7))\n",
        "\n",
        "%timeit np.power(x,3)\n",
        "%timeit x*x*x\n",
        "%timeit np.einsum('i,i,i->i',x,x,x)"
      ]
    },
    {
      "cell_type": "markdown",
      "metadata": {
        "id": "Wj7ShkufQv49"
      },
      "source": [
        "#### 93. Consider two arrays A and B of shape (8,3) and (2,2). How to find rows of A that contain elements of each row of B regardless of the order of the elements in B? (★★★) \n",
        "(**hint**: np.where)"
      ]
    },
    {
      "cell_type": "code",
      "execution_count": 41,
      "metadata": {
        "id": "2RNQfg-WQv49",
        "colab": {
          "base_uri": "https://localhost:8080/"
        },
        "outputId": "5db930fc-6ba8-4d99-aa6f-1812557eacf8"
      },
      "outputs": [
        {
          "output_type": "stream",
          "name": "stdout",
          "text": [
            "[0 1 2 3 5 7]\n"
          ]
        }
      ],
      "source": [
        "A = np.random.randint(0,5,(8,3))\n",
        "B = np.random.randint(0,5,(2,2))\n",
        "\n",
        "C = (A[..., np.newaxis, np.newaxis] == B)\n",
        "rows = np.where(C.any((3,1)).all(1))[0]\n",
        "print(rows)"
      ]
    },
    {
      "cell_type": "markdown",
      "metadata": {
        "id": "3-9LOPEhQv49"
      },
      "source": [
        "#### 94. Considering a 10x3 matrix, extract rows with unequal values (e.g. \\[2,2,3\\]) (★★★)"
      ]
    },
    {
      "cell_type": "code",
      "execution_count": 42,
      "metadata": {
        "id": "d3_1ZLyLQv4-",
        "colab": {
          "base_uri": "https://localhost:8080/"
        },
        "outputId": "9731fc1d-324f-427f-f1e1-5730702de684"
      },
      "outputs": [
        {
          "output_type": "stream",
          "name": "stdout",
          "text": [
            "[[3 1 1]\n",
            " [3 4 3]\n",
            " [2 1 3]\n",
            " [4 4 2]\n",
            " [1 0 4]\n",
            " [2 3 4]\n",
            " [2 3 1]\n",
            " [3 4 2]\n",
            " [4 4 0]\n",
            " [0 2 1]]\n",
            "[[3 1 1]\n",
            " [3 4 3]\n",
            " [2 1 3]\n",
            " [4 4 2]\n",
            " [1 0 4]\n",
            " [2 3 4]\n",
            " [2 3 1]\n",
            " [3 4 2]\n",
            " [4 4 0]\n",
            " [0 2 1]]\n",
            "[[3 1 1]\n",
            " [3 4 3]\n",
            " [2 1 3]\n",
            " [4 4 2]\n",
            " [1 0 4]\n",
            " [2 3 4]\n",
            " [2 3 1]\n",
            " [3 4 2]\n",
            " [4 4 0]\n",
            " [0 2 1]]\n"
          ]
        }
      ],
      "source": [
        "Z = np.random.randint(0,5,(10,3))\n",
        "print(Z)\n",
        "# solution for arrays of all dtypes (including string arrays and record arrays)\n",
        "E = np.all(Z[:,1:] == Z[:,:-1], axis=1)\n",
        "U = Z[~E]\n",
        "print(U)\n",
        "# soluiton for numerical arrays only, will work for any number of columns in Z\n",
        "U = Z[Z.max(axis=1) != Z.min(axis=1),:]\n",
        "print(U)"
      ]
    },
    {
      "cell_type": "markdown",
      "metadata": {
        "id": "p33bMoZAQv4-"
      },
      "source": [
        "#### 95. Convert a vector of ints into a matrix binary representation (★★★) \n",
        "(**hint**: np.unpackbits)"
      ]
    },
    {
      "cell_type": "code",
      "execution_count": 44,
      "metadata": {
        "id": "M4vymvUDQv4_",
        "colab": {
          "base_uri": "https://localhost:8080/"
        },
        "outputId": "e4d291f2-5483-4571-9f06-e195ac585c63"
      },
      "outputs": [
        {
          "output_type": "stream",
          "name": "stdout",
          "text": [
            "[[0 0 0 0 0 0 0 0]\n",
            " [0 0 0 0 0 0 0 1]\n",
            " [0 0 0 0 0 0 1 0]\n",
            " [0 0 0 0 0 0 1 1]\n",
            " [0 0 0 0 1 1 1 1]\n",
            " [0 0 0 1 0 0 0 0]\n",
            " [0 0 1 0 0 0 0 0]\n",
            " [0 1 0 0 0 0 0 0]\n",
            " [1 0 0 0 0 0 0 0]]\n"
          ]
        }
      ],
      "source": [
        "I = np.array([0, 1, 2, 3, 15, 16, 32, 64, 128])\n",
        "B = ((I.reshape(-1,1) & (2**np.arange(8))) != 0).astype(int)\n",
        "print(B[:,::-1])"
      ]
    },
    {
      "cell_type": "markdown",
      "metadata": {
        "id": "ICV3FV6MQv5A"
      },
      "source": [
        "#### 96. Given a two dimensional array, how to extract unique rows? (★★★) \n",
        "(**hint**: np.ascontiguousarray)"
      ]
    },
    {
      "cell_type": "code",
      "execution_count": 43,
      "metadata": {
        "id": "pisCF7z9Qv5A",
        "colab": {
          "base_uri": "https://localhost:8080/"
        },
        "outputId": "789f6e09-919f-4531-9cea-00be3579eb46"
      },
      "outputs": [
        {
          "output_type": "stream",
          "name": "stdout",
          "text": [
            "[[0 0 1]\n",
            " [0 1 1]\n",
            " [1 0 0]\n",
            " [1 0 1]\n",
            " [1 1 1]]\n"
          ]
        }
      ],
      "source": [
        "Z = np.random.randint(0,2,(6,3))\n",
        "T = np.ascontiguousarray(Z).view(np.dtype((np.void, Z.dtype.itemsize * Z.shape[1])))\n",
        "_, idx = np.unique(T, return_index=True)\n",
        "uZ = Z[idx]\n",
        "print(uZ)"
      ]
    },
    {
      "cell_type": "markdown",
      "metadata": {
        "id": "kM2ngfqfQv5B"
      },
      "source": [
        "#### 97. Considering 2 vectors A & B, write the einsum equivalent of inner, outer, sum, and mul function (★★★) \n",
        "(**hint**: np.einsum)"
      ]
    },
    {
      "cell_type": "code",
      "execution_count": 45,
      "metadata": {
        "id": "J0qzIfurQv5B",
        "colab": {
          "base_uri": "https://localhost:8080/"
        },
        "outputId": "5d5d7eee-0f05-4083-f59b-6ae2afc337d5"
      },
      "outputs": [
        {
          "output_type": "execute_result",
          "data": {
            "text/plain": [
              "array([[0.2968761 , 0.31608021, 0.35744869, 0.21375795, 0.27912251,\n",
              "        0.20671603, 0.22474178, 0.07483191, 0.19183554, 0.03824503],\n",
              "       [0.20695101, 0.22033811, 0.24917589, 0.14900972, 0.19457506,\n",
              "        0.14410082, 0.15666649, 0.05216499, 0.1337277 , 0.02666044],\n",
              "       [0.39447832, 0.41999605, 0.47496501, 0.2840339 , 0.37088799,\n",
              "        0.27467684, 0.29862881, 0.09943396, 0.25490418, 0.05081862],\n",
              "       [0.78550858, 0.836321  , 0.94577843, 0.56558512, 0.73853412,\n",
              "        0.54695279, 0.59464737, 0.19799878, 0.5075803 , 0.10119305],\n",
              "       [0.68258947, 0.72674434, 0.82186041, 0.49148088, 0.64176971,\n",
              "        0.4752898 , 0.51673533, 0.17205654, 0.44107598, 0.08793451],\n",
              "       [0.28228454, 0.30054476, 0.33987997, 0.20325168, 0.26540355,\n",
              "        0.19655586, 0.21369564, 0.0711539 , 0.18240675, 0.03636527],\n",
              "       [0.27582267, 0.29366489, 0.33209966, 0.19859897, 0.25932811,\n",
              "        0.19205644, 0.20880386, 0.06952509, 0.17823122, 0.03553282],\n",
              "       [0.5845106 , 0.62232101, 0.70377019, 0.42086173, 0.54955609,\n",
              "        0.40699709, 0.44248746, 0.14733434, 0.37769933, 0.07529951],\n",
              "       [0.28844442, 0.30710311, 0.34729666, 0.20768693, 0.27119505,\n",
              "        0.20084501, 0.2183588 , 0.07270658, 0.18638715, 0.03715882],\n",
              "       [0.18036302, 0.19203022, 0.21716308, 0.12986573, 0.16957707,\n",
              "        0.1255875 , 0.1365388 , 0.04546311, 0.11654706, 0.02323525]])"
            ]
          },
          "metadata": {},
          "execution_count": 45
        }
      ],
      "source": [
        "A = np.random.uniform(0,1,10)\n",
        "B = np.random.uniform(0,1,10)\n",
        "\n",
        "np.einsum('i->', A)       # np.sum(A)\n",
        "np.einsum('i,i->i', A, B) # A * B\n",
        "np.einsum('i,i', A, B)    # np.inner(A, B)\n",
        "np.einsum('i,j->ij', A, B)    # np.outer(A, B)"
      ]
    },
    {
      "cell_type": "markdown",
      "metadata": {
        "id": "IQ76uJJvQv5B"
      },
      "source": [
        "#### 98. Considering a path described by two vectors (X,Y), how to sample it using equidistant samples (★★★)? \n",
        "(**hint**: np.cumsum, np.interp)"
      ]
    },
    {
      "cell_type": "code",
      "execution_count": 47,
      "metadata": {
        "collapsed": true,
        "id": "Xih8OIa2Qv5C"
      },
      "outputs": [],
      "source": [
        "phi = np.arange(0, 10*np.pi, 0.1)\n",
        "a = 1\n",
        "x = a*phi*np.cos(phi)\n",
        "y = a*phi*np.sin(phi)\n",
        "\n",
        "dr = (np.diff(x)**2 + np.diff(y)**2)**.5 # segment lengths\n",
        "r = np.zeros_like(x)\n",
        "r[1:] = np.cumsum(dr)                # integrate path\n",
        "r_int = np.linspace(0, r.max(), 200) # regular spaced path\n",
        "x_int = np.interp(r_int, r, x)       # integrate path\n",
        "y_int = np.interp(r_int, r, y)"
      ]
    },
    {
      "cell_type": "markdown",
      "metadata": {
        "id": "uEukGYcGQv5C"
      },
      "source": [
        "#### 99. Given an integer n and a 2D array X, select from X the rows which can be interpreted as draws from a multinomial distribution with n degrees, i.e., the rows which only contain integers and which sum to n. (★★★) \n",
        "(**hint**: np.logical\\_and.reduce, np.mod)"
      ]
    },
    {
      "cell_type": "code",
      "execution_count": 46,
      "metadata": {
        "id": "acIxFYSwQv5C",
        "colab": {
          "base_uri": "https://localhost:8080/"
        },
        "outputId": "3cc2d59b-59e0-441c-af57-7adfa2680862"
      },
      "outputs": [
        {
          "output_type": "stream",
          "name": "stdout",
          "text": [
            "[[2. 0. 1. 1.]]\n"
          ]
        }
      ],
      "source": [
        "X = np.asarray([[1.0, 0.0, 3.0, 8.0],\n",
        "                [2.0, 0.0, 1.0, 1.0],\n",
        "                [1.5, 2.5, 1.0, 0.0]])\n",
        "n = 4\n",
        "M = np.logical_and.reduce(np.mod(X, 1) == 0, axis=-1)\n",
        "M &= (X.sum(axis=-1) == n)\n",
        "print(X[M])"
      ]
    },
    {
      "cell_type": "markdown",
      "metadata": {
        "id": "iaYVLUD_Qv5D"
      },
      "source": [
        "#### 100. Compute bootstrapped 95% confidence intervals for the mean of a 1D array X (i.e., resample the elements of an array with replacement N times, compute the mean of each sample, and then compute percentiles over the means). (★★★) \n",
        "(**hint**: np.percentile)"
      ]
    },
    {
      "cell_type": "code",
      "execution_count": 48,
      "metadata": {
        "id": "jltgktq9Qv5D",
        "colab": {
          "base_uri": "https://localhost:8080/"
        },
        "outputId": "a3b42c98-ebb6-4c45-a2ab-8368be3ac082"
      },
      "outputs": [
        {
          "output_type": "stream",
          "name": "stdout",
          "text": [
            "[-0.22300065  0.20916695]\n"
          ]
        }
      ],
      "source": [
        "X = np.random.randn(100) # random 1D array\n",
        "N = 1000 # number of bootstrap samples\n",
        "idx = np.random.randint(0, X.size, (N, X.size))\n",
        "means = X[idx].mean(axis=1)\n",
        "confint = np.percentile(means, [2.5, 97.5])\n",
        "print(confint)"
      ]
    }
  ],
  "metadata": {
    "kernelspec": {
      "display_name": "Python 3",
      "language": "python",
      "name": "python3"
    },
    "language_info": {
      "codemirror_mode": {
        "name": "ipython",
        "version": 3
      },
      "file_extension": ".py",
      "mimetype": "text/x-python",
      "name": "python",
      "nbconvert_exporter": "python",
      "pygments_lexer": "ipython3",
      "version": "3.8.3"
    },
    "colab": {
      "name": " Numpy_Important_Exercise.ipynb",
      "provenance": [],
      "collapsed_sections": [
        "E8723SlyQv3f",
        "Nb8O2nQdQv3g",
        "ZqiW0MugQv3h",
        "cL1W1e82Qv3i",
        "oFrWT4DAQv3j",
        "T-dOujawQv3k",
        "aWSvJ2HoQv3l",
        "aNECYl1RQv3m",
        "Oc8rYcdoQv3q",
        "FcFllcJAQv3t",
        "lbtXIbRdQv4T"
      ]
    }
  },
  "nbformat": 4,
  "nbformat_minor": 0
}